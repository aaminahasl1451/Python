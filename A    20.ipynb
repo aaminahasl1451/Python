{
 "cells": [
  {
   "cell_type": "markdown",
   "id": "2da988ed",
   "metadata": {},
   "source": [
    "# while loop"
   ]
  },
  {
   "cell_type": "code",
   "execution_count": 2,
   "id": "c9bd2c56",
   "metadata": {
    "collapsed": true
   },
   "outputs": [
    {
     "name": "stdout",
     "output_type": "stream",
     "text": [
      "while\n",
      "while\n",
      "while\n",
      "while\n",
      "while\n"
     ]
    }
   ],
   "source": [
    "count= 1\n",
    "while count<6:\n",
    "    print(\"while\")\n",
    "    count +=1"
   ]
  },
  {
   "cell_type": "code",
   "execution_count": 3,
   "id": "00b2a61e",
   "metadata": {},
   "outputs": [
    {
     "data": {
      "text/plain": [
       "6"
      ]
     },
     "execution_count": 3,
     "metadata": {},
     "output_type": "execute_result"
    }
   ],
   "source": [
    "count"
   ]
  },
  {
   "cell_type": "code",
   "execution_count": null,
   "id": "c1083a90",
   "metadata": {},
   "outputs": [
    {
     "name": "stdout",
     "output_type": "stream",
     "text": [
      "enter ur age            54\n",
      "Valid Age Entered!\n",
      "enter ur age            87\n",
      "Valid Age Entered!\n",
      "enter ur age            1\n",
      "please enter valid age (Must be 18 or older)\n",
      "enter ur age            65\n",
      "Valid Age Entered!\n",
      "enter ur age            34\n",
      "Valid Age Entered!\n",
      "enter ur age            6\n",
      "please enter valid age (Must be 18 or older)\n",
      "enter ur age            1\n",
      "please enter valid age (Must be 18 or older)\n",
      "enter ur age            3\n",
      "please enter valid age (Must be 18 or older)\n",
      "enter ur age            4\n",
      "please enter valid age (Must be 18 or older)\n",
      "enter ur age            6\n",
      "please enter valid age (Must be 18 or older)\n",
      "enter ur age            7\n",
      "please enter valid age (Must be 18 or older)\n",
      "enter ur age            9\n",
      "please enter valid age (Must be 18 or older)\n",
      "enter ur age            0\n",
      "please enter valid age (Must be 18 or older)\n",
      "enter ur age            32\n",
      "Valid Age Entered!\n",
      "enter ur age            43\n",
      "Valid Age Entered!\n",
      "enter ur age            4\n",
      "please enter valid age (Must be 18 or older)\n",
      "enter ur age            4\n",
      "please enter valid age (Must be 18 or older)\n",
      "enter ur age            3\n",
      "please enter valid age (Must be 18 or older)\n",
      "enter ur age            2\n",
      "please enter valid age (Must be 18 or older)\n",
      "enter ur age            \n",
      "please enter valid age (Must be 18 or older)\n",
      "enter ur age            \n",
      "please enter valid age (Must be 18 or older)\n",
      "enter ur age            4\n",
      "please enter valid age (Must be 18 or older)\n",
      "enter ur age            \n",
      "please enter valid age (Must be 18 or older)\n",
      "enter ur age            7\n",
      "please enter valid age (Must be 18 or older)\n",
      "enter ur age            8\n",
      "please enter valid age (Must be 18 or older)\n",
      "enter ur age            9\n",
      "please enter valid age (Must be 18 or older)\n",
      "enter ur age            0\n",
      "please enter valid age (Must be 18 or older)\n",
      "enter ur age            9\n",
      "please enter valid age (Must be 18 or older)\n",
      "enter ur age            8\n",
      "please enter valid age (Must be 18 or older)\n",
      "enter ur age            7\n",
      "please enter valid age (Must be 18 or older)\n",
      "enter ur age            \n",
      "please enter valid age (Must be 18 or older)\n",
      "enter ur age            6\n",
      "please enter valid age (Must be 18 or older)\n",
      "enter ur age            \n",
      "please enter valid age (Must be 18 or older)\n",
      "enter ur age            \n",
      "please enter valid age (Must be 18 or older)\n",
      "enter ur age            5\n",
      "please enter valid age (Must be 18 or older)\n",
      "enter ur age            \n",
      "please enter valid age (Must be 18 or older)\n",
      "enter ur age            4444444444444444\n",
      "Valid Age Entered!\n",
      "enter ur age            33333333\n",
      "Valid Age Entered!\n",
      "enter ur age            2\n",
      "please enter valid age (Must be 18 or older)\n",
      "enter ur age            11\n",
      "please enter valid age (Must be 18 or older)\n",
      "enter ur age            text\n",
      "please enter valid age (Must be 18 or older)\n",
      "enter ur age            aa\n",
      "please enter valid age (Must be 18 or older)\n"
     ]
    }
   ],
   "source": [
    "validImput=False\n",
    "while not validImput:\n",
    "    userAge=input(\"enter ur age            \")\n",
    "    if userAge.isdigit() and int(userAge) >=18:\n",
    "        print(\"Valid Age Entered!\")\n",
    "    else:\n",
    "        print(\"please enter valid age (Must be 18 or older)\")"
   ]
  },
  {
   "cell_type": "code",
   "execution_count": 4,
   "id": "c9d0de32",
   "metadata": {},
   "outputs": [
    {
     "name": "stdout",
     "output_type": "stream",
     "text": [
      "enter something  23\n"
     ]
    }
   ],
   "source": [
    "a = input(\"enter something  \")"
   ]
  },
  {
   "cell_type": "code",
   "execution_count": 5,
   "id": "de935c2e",
   "metadata": {},
   "outputs": [
    {
     "data": {
      "text/plain": [
       "str"
      ]
     },
     "execution_count": 5,
     "metadata": {},
     "output_type": "execute_result"
    }
   ],
   "source": [
    "type(a)"
   ]
  },
  {
   "cell_type": "code",
   "execution_count": 6,
   "id": "5c20a468",
   "metadata": {},
   "outputs": [],
   "source": [
    "a = 23"
   ]
  },
  {
   "cell_type": "code",
   "execution_count": 7,
   "id": "4ca7adf2",
   "metadata": {},
   "outputs": [
    {
     "data": {
      "text/plain": [
       "int"
      ]
     },
     "execution_count": 7,
     "metadata": {},
     "output_type": "execute_result"
    }
   ],
   "source": [
    "type(a)"
   ]
  },
  {
   "cell_type": "code",
   "execution_count": 1,
   "id": "4922d029",
   "metadata": {},
   "outputs": [],
   "source": [
    "numbers = [1, 3, 5, 7, 9]"
   ]
  },
  {
   "cell_type": "code",
   "execution_count": 2,
   "id": "9ff0f744",
   "metadata": {},
   "outputs": [
    {
     "data": {
      "text/plain": [
       "5"
      ]
     },
     "execution_count": 2,
     "metadata": {},
     "output_type": "execute_result"
    }
   ],
   "source": [
    "len(numbers)"
   ]
  },
  {
   "cell_type": "code",
   "execution_count": 4,
   "id": "4f5a2302",
   "metadata": {},
   "outputs": [
    {
     "name": "stdout",
     "output_type": "stream",
     "text": [
      "1\n",
      "3\n",
      "5\n",
      "7\n",
      "9\n"
     ]
    }
   ],
   "source": [
    "numbers = [1, 3, 5, 7, 9]\n",
    "index = 0\n",
    "while index < len(numbers):\n",
    "    print(numbers[index])\n",
    "    index += 1\n"
   ]
  },
  {
   "cell_type": "code",
   "execution_count": 9,
   "id": "cf575f71",
   "metadata": {},
   "outputs": [
    {
     "name": "stdout",
     "output_type": "stream",
     "text": [
      "Menu:\n",
      "1. Option 1\n",
      "2. Option 2\n",
      "3. Option 3\n",
      "Aaminah\n",
      "Enter your choice (1-3): 4\n",
      "Invalid choice. Please select a valid option.\n",
      "Menu:\n",
      "1. Option 1\n",
      "2. Option 2\n",
      "3. Option 3\n",
      "Aaminah\n",
      "Enter your choice (1-3): 1\n",
      "You selected option 1.\n"
     ]
    }
   ],
   "source": [
    "choice = None\n",
    "while choice not in ('1', '2', '3'):\n",
    "    print(\"Menu:\")\n",
    "    print(\"1. Option 1\")\n",
    "    print(\"2. Option 2\")\n",
    "    print(\"3. Option 3\")\n",
    "    print(\"Aaminah\")\n",
    "    choice = input(\"Enter your choice (1-3): \")\n",
    "    if choice not in ('1', '2', '3'):\n",
    "        print(\"Invalid choice. Please select a valid option.\")\n",
    "    else:\n",
    "        print(f\"You selected option {choice}.\")\n"
   ]
  },
  {
   "cell_type": "code",
   "execution_count": 10,
   "id": "e31edc3d",
   "metadata": {},
   "outputs": [
    {
     "name": "stdout",
     "output_type": "stream",
     "text": [
      "Menu:\n",
      "1. Option 1\n",
      "2. Option 2\n",
      "3. Option 3\n",
      "Enter your choice (1-3): 1\n",
      "You selected option 1.\n"
     ]
    }
   ],
   "source": [
    "choice = None\n",
    "while choice not in ('1', '2', '3'):\n",
    "    print(\"Menu:\")\n",
    "    print(\"1. Option 1\")\n",
    "    print(\"2. Option 2\")\n",
    "    print(\"3. Option 3\")\n",
    "    choice = input(\"Enter your choice (1-3): \")\n",
    "    if choice not in ('1', '2', '3'):\n",
    "        print(\"Invalid choice. Please select a valid option.\")\n",
    "    else:\n",
    "        print(f\"You selected option {choice}.\")\n"
   ]
  },
  {
   "cell_type": "code",
   "execution_count": 11,
   "id": "5d724556",
   "metadata": {},
   "outputs": [
    {
     "name": "stdout",
     "output_type": "stream",
     "text": [
      "5\n",
      "4\n",
      "3\n",
      "2\n",
      "1\n",
      "Liftoff!\n"
     ]
    }
   ],
   "source": [
    "countdown = 5\n",
    "while countdown > 0:\n",
    "    print(countdown)\n",
    "    countdown -= 1\n",
    "print(\"Liftoff!\")\n"
   ]
  },
  {
   "cell_type": "code",
   "execution_count": null,
   "id": "2c6362c3",
   "metadata": {},
   "outputs": [],
   "source": [
    "password = input(\"Set a password \")\n",
    "attempts = 3\n",
    "while attempts > 0:\n",
    "    user_input = input(\"Enter the password: \")\n",
    "    if user_input == password:\n",
    "        print(\"Access granted!\")\n",
    "        break  # Exit the loop if the password is correct\n",
    "    else:\n",
    "        attempts -= 1\n",
    "        if attempts > 0:\n",
    "            print(f\"Wrong password! {attempts} attempts remaining.\")\n",
    "        else:\n",
    "            print(\"Too many attempts. Access denied.\")\n"
   ]
  },
  {
   "cell_type": "markdown",
   "id": "11d32140",
   "metadata": {},
   "source": [
    "# Grade classifier based on percentage\n",
    "percentage = float(input(\"Enter your percentage: \"))\n",
    "\n",
    "if percentage >= 90:\n",
    "    grade = 'A'\n",
    "elif percentage >= 80:\n",
    "    grade = 'B'\n",
    "elif percentage >= 70:\n",
    "    grade = 'C'\n",
    "elif percentage >= 60:\n",
    "    grade = 'D'\n",
    "else:\n",
    "    grade = 'F'\n",
    "\n",
    "print(f\"Your grade is: {grade}\")\n"
   ]
  },
  {
   "cell_type": "code",
   "execution_count": null,
   "id": "cfbae803",
   "metadata": {},
   "outputs": [],
   "source": []
  }
 ],
 "metadata": {
  "kernelspec": {
   "display_name": "Python 3 (ipykernel)",
   "language": "python",
   "name": "python3"
  },
  "language_info": {
   "codemirror_mode": {
    "name": "ipython",
    "version": 3
   },
   "file_extension": ".py",
   "mimetype": "text/x-python",
   "name": "python",
   "nbconvert_exporter": "python",
   "pygments_lexer": "ipython3",
   "version": "3.11.5"
  }
 },
 "nbformat": 4,
 "nbformat_minor": 5
}
