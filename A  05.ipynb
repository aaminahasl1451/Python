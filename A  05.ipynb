{
 "cells": [
  {
   "cell_type": "markdown",
   "id": "b1de3ce0",
   "metadata": {},
   "source": [
    "# How do you check the type of a variable in Python?"
   ]
  },
  {
   "cell_type": "code",
   "execution_count": 1,
   "id": "665a9f55",
   "metadata": {},
   "outputs": [
    {
     "data": {
      "text/plain": [
       "(22, 4, 23)"
      ]
     },
     "execution_count": 1,
     "metadata": {},
     "output_type": "execute_result"
    }
   ],
   "source": [
    "a = 22\n",
    "b = 4\n",
    "c = 23  \n",
    "\n",
    "a,b,c"
   ]
  },
  {
   "cell_type": "markdown",
   "id": "d15d1915",
   "metadata": {},
   "source": [
    "# you need to use type() function\n"
   ]
  },
  {
   "cell_type": "code",
   "execution_count": 3,
   "id": "e775e070",
   "metadata": {},
   "outputs": [
    {
     "data": {
      "text/plain": [
       "int"
      ]
     },
     "execution_count": 3,
     "metadata": {},
     "output_type": "execute_result"
    }
   ],
   "source": [
    "type(a)"
   ]
  },
  {
   "cell_type": "code",
   "execution_count": 4,
   "id": "6f694a33",
   "metadata": {},
   "outputs": [
    {
     "data": {
      "text/plain": [
       "int"
      ]
     },
     "execution_count": 4,
     "metadata": {},
     "output_type": "execute_result"
    }
   ],
   "source": [
    "type(b)"
   ]
  },
  {
   "cell_type": "markdown",
   "id": "80690bae",
   "metadata": {},
   "source": [
    "# What is the purpose of the del statement with variables?"
   ]
  },
  {
   "cell_type": "markdown",
   "id": "dc5a770a",
   "metadata": {},
   "source": [
    "\"\"\"\n",
    "The del statement is used to delete a reference to an object. \n",
    "It can be used to delete variables or items in lists or dictionaries.\n",
    "\"\"\""
   ]
  },
  {
   "cell_type": "code",
   "execution_count": 6,
   "id": "5081bd2a",
   "metadata": {},
   "outputs": [],
   "source": [
    "x = 5\n",
    "del x  # Deletes the variable x\n"
   ]
  },
  {
   "cell_type": "code",
   "execution_count": 18,
   "id": "0e83d45d",
   "metadata": {},
   "outputs": [
    {
     "data": {
      "text/plain": [
       "4"
      ]
     },
     "execution_count": 18,
     "metadata": {},
     "output_type": "execute_result"
    }
   ],
   "source": [
    "b"
   ]
  },
  {
   "cell_type": "code",
   "execution_count": 19,
   "id": "deabdab3",
   "metadata": {},
   "outputs": [],
   "source": [
    "z = 9\n",
    "del z   # Deletes the variables z"
   ]
  },
  {
   "cell_type": "markdown",
   "id": "974c19b7",
   "metadata": {},
   "source": [
    "# In Python, a list is a built-in data type that represents an ordered collection of elements.Lists are versatile and can contain elements of different data types. "
   ]
  },
  {
   "cell_type": "code",
   "execution_count": 21,
   "id": "6e1e8218",
   "metadata": {},
   "outputs": [],
   "source": [
    "empty_list = []"
   ]
  },
  {
   "cell_type": "code",
   "execution_count": 22,
   "id": "fca4edc4",
   "metadata": {},
   "outputs": [
    {
     "data": {
      "text/plain": [
       "list"
      ]
     },
     "execution_count": 22,
     "metadata": {},
     "output_type": "execute_result"
    }
   ],
   "source": [
    "type(empty_list)"
   ]
  },
  {
   "cell_type": "code",
   "execution_count": null,
   "id": "2217b8da",
   "metadata": {},
   "outputs": [],
   "source": [
    "type"
   ]
  }
 ],
 "metadata": {
  "kernelspec": {
   "display_name": "Python 3 (ipykernel)",
   "language": "python",
   "name": "python3"
  },
  "language_info": {
   "codemirror_mode": {
    "name": "ipython",
    "version": 3
   },
   "file_extension": ".py",
   "mimetype": "text/x-python",
   "name": "python",
   "nbconvert_exporter": "python",
   "pygments_lexer": "ipython3",
   "version": "3.11.5"
  }
 },
 "nbformat": 4,
 "nbformat_minor": 5
}
