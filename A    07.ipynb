{
 "cells": [
  {
   "cell_type": "markdown",
   "id": "07fca71e",
   "metadata": {},
   "source": [
    "# Creating a list ?"
   ]
  },
  {
   "cell_type": "code",
   "execution_count": 1,
   "id": "2192e2ba",
   "metadata": {},
   "outputs": [],
   "source": [
    "zahra_list = []"
   ]
  },
  {
   "cell_type": "code",
   "execution_count": 2,
   "id": "57354f56",
   "metadata": {},
   "outputs": [
    {
     "data": {
      "text/plain": [
       "list"
      ]
     },
     "execution_count": 2,
     "metadata": {},
     "output_type": "execute_result"
    }
   ],
   "source": [
    "type(zahra_list)"
   ]
  },
  {
   "cell_type": "code",
   "execution_count": 5,
   "id": "3986278c",
   "metadata": {},
   "outputs": [],
   "source": [
    "pop_it_list = [34,20,79.6,45,\"pop\"]"
   ]
  },
  {
   "cell_type": "code",
   "execution_count": 9,
   "id": "ac1949af",
   "metadata": {},
   "outputs": [
    {
     "data": {
      "text/plain": [
       "'pop'"
      ]
     },
     "execution_count": 9,
     "metadata": {},
     "output_type": "execute_result"
    }
   ],
   "source": [
    "pop_it_list[4]"
   ]
  },
  {
   "cell_type": "markdown",
   "id": "998d97f4",
   "metadata": {},
   "source": [
    "# Slicing a list"
   ]
  },
  {
   "cell_type": "code",
   "execution_count": 10,
   "id": "d506a473",
   "metadata": {},
   "outputs": [],
   "source": [
    "list1= pop_it_list[0:4]"
   ]
  },
  {
   "cell_type": "code",
   "execution_count": 11,
   "id": "3d4fddcd",
   "metadata": {},
   "outputs": [
    {
     "data": {
      "text/plain": [
       "[34, 20, 79.6, 45, 'pop']"
      ]
     },
     "execution_count": 11,
     "metadata": {},
     "output_type": "execute_result"
    }
   ],
   "source": [
    "pop_it_list"
   ]
  },
  {
   "cell_type": "code",
   "execution_count": 12,
   "id": "9fc801fd",
   "metadata": {},
   "outputs": [
    {
     "data": {
      "text/plain": [
       "[34, 20, 79.6, 45]"
      ]
     },
     "execution_count": 12,
     "metadata": {},
     "output_type": "execute_result"
    }
   ],
   "source": [
    "list1"
   ]
  },
  {
   "cell_type": "code",
   "execution_count": 15,
   "id": "4342c973",
   "metadata": {},
   "outputs": [],
   "source": [
    "list2= pop_it_list[2:5]"
   ]
  },
  {
   "cell_type": "code",
   "execution_count": 16,
   "id": "6e9d98c2",
   "metadata": {},
   "outputs": [
    {
     "data": {
      "text/plain": [
       "[79.6, 45, 'pop']"
      ]
     },
     "execution_count": 16,
     "metadata": {},
     "output_type": "execute_result"
    }
   ],
   "source": [
    "list2"
   ]
  },
  {
   "cell_type": "code",
   "execution_count": null,
   "id": "1989b354",
   "metadata": {},
   "outputs": [],
   "source": []
  }
 ],
 "metadata": {
  "kernelspec": {
   "display_name": "Python 3 (ipykernel)",
   "language": "python",
   "name": "python3"
  },
  "language_info": {
   "codemirror_mode": {
    "name": "ipython",
    "version": 3
   },
   "file_extension": ".py",
   "mimetype": "text/x-python",
   "name": "python",
   "nbconvert_exporter": "python",
   "pygments_lexer": "ipython3",
   "version": "3.11.5"
  }
 },
 "nbformat": 4,
 "nbformat_minor": 5
}
