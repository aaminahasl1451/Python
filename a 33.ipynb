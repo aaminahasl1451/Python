{
 "cells": [
  {
   "cell_type": "markdown",
   "id": "ad3a2067",
   "metadata": {},
   "source": [
    "# even odd in python"
   ]
  },
  {
   "cell_type": "code",
   "execution_count": 8,
   "id": "050ecd07",
   "metadata": {},
   "outputs": [],
   "source": [
    "numbers = [12,34,56,78,90,77,40]\n"
   ]
  },
  {
   "cell_type": "code",
   "execution_count": 9,
   "id": "2d37c6f3",
   "metadata": {},
   "outputs": [],
   "source": [
    "even = [n for n in numbers if n% 2 == 0]\n",
    "odd = [n for n in numbers if n% 2 != 0]\n"
   ]
  },
  {
   "cell_type": "code",
   "execution_count": 10,
   "id": "9368eddc",
   "metadata": {},
   "outputs": [
    {
     "name": "stdout",
     "output_type": "stream",
     "text": [
      "even numbers :   [12, 34, 56, 78, 90, 40]\n"
     ]
    }
   ],
   "source": [
    "print(\"even numbers :  \",even)"
   ]
  },
  {
   "cell_type": "code",
   "execution_count": 11,
   "id": "df96a9c3",
   "metadata": {},
   "outputs": [
    {
     "name": "stdout",
     "output_type": "stream",
     "text": [
      "odd numbers :   [77]\n"
     ]
    }
   ],
   "source": [
    "print(\"odd numbers :  \",odd)"
   ]
  },
  {
   "cell_type": "code",
   "execution_count": 12,
   "id": "2ae8e66f",
   "metadata": {},
   "outputs": [
    {
     "ename": "SyntaxError",
     "evalue": "invalid syntax (1583812516.py, line 1)",
     "output_type": "error",
     "traceback": [
      "\u001b[1;36m  Cell \u001b[1;32mIn[12], line 1\u001b[1;36m\u001b[0m\n\u001b[1;33m    numbers = [12,34,56,78,90,77,402,3,4,,6,78,1,40,25,2]\u001b[0m\n\u001b[1;37m                                         ^\u001b[0m\n\u001b[1;31mSyntaxError\u001b[0m\u001b[1;31m:\u001b[0m invalid syntax\n"
     ]
    }
   ],
   "source": [
    "numbers = [12,34,56,78,90,77,402,3,4,,6,78,1,40,25,2]"
   ]
  },
  {
   "cell_type": "code",
   "execution_count": 13,
   "id": "e4c7f388",
   "metadata": {},
   "outputs": [],
   "source": [
    "even = [n for n in numbers if n% 2 == 0]\n",
    "odd = [n for n in numbers if n% 2 != 0]\n",
    "prime = [n for n in numbers if n% 2 == 0]\n",
    "square = [n for n in numbers if n% 2 != 0]"
   ]
  },
  {
   "cell_type": "code",
   "execution_count": 15,
   "id": "e89d58c5",
   "metadata": {},
   "outputs": [
    {
     "name": "stdout",
     "output_type": "stream",
     "text": [
      "odd numbers :   [77]\n"
     ]
    }
   ],
   "source": [
    "print(\"odd numbers :  \",odd)"
   ]
  },
  {
   "cell_type": "code",
   "execution_count": 16,
   "id": "657dd1f1",
   "metadata": {},
   "outputs": [
    {
     "name": "stdout",
     "output_type": "stream",
     "text": [
      "prime numbers :   [12, 34, 56, 78, 90, 40]\n"
     ]
    }
   ],
   "source": [
    "print(\"prime numbers :  \",prime)"
   ]
  },
  {
   "cell_type": "code",
   "execution_count": 17,
   "id": "02ed443b",
   "metadata": {},
   "outputs": [
    {
     "name": "stdout",
     "output_type": "stream",
     "text": [
      "even numbers :   [12, 34, 56, 78, 90, 40]\n"
     ]
    }
   ],
   "source": [
    "print(\"even numbers :  \",even)"
   ]
  },
  {
   "cell_type": "code",
   "execution_count": 18,
   "id": "8b87ce56",
   "metadata": {},
   "outputs": [
    {
     "name": "stdout",
     "output_type": "stream",
     "text": [
      "square numbers :   [77]\n"
     ]
    }
   ],
   "source": [
    "print(\"square numbers :  \",square)"
   ]
  },
  {
   "cell_type": "code",
   "execution_count": null,
   "id": "45f64a48",
   "metadata": {},
   "outputs": [],
   "source": []
  }
 ],
 "metadata": {
  "kernelspec": {
   "display_name": "Python 3 (ipykernel)",
   "language": "python",
   "name": "python3"
  },
  "language_info": {
   "codemirror_mode": {
    "name": "ipython",
    "version": 3
   },
   "file_extension": ".py",
   "mimetype": "text/x-python",
   "name": "python",
   "nbconvert_exporter": "python",
   "pygments_lexer": "ipython3",
   "version": "3.11.5"
  }
 },
 "nbformat": 4,
 "nbformat_minor": 5
}
