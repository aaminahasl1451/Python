{
 "cells": [
  {
   "cell_type": "code",
   "execution_count": 1,
   "id": "6bb8f62c",
   "metadata": {},
   "outputs": [
    {
     "name": "stdout",
     "output_type": "stream",
     "text": [
      "hello\n"
     ]
    }
   ],
   "source": [
    "print(\"hello\")"
   ]
  },
  {
   "cell_type": "code",
   "execution_count": 3,
   "id": "b0780ddf",
   "metadata": {},
   "outputs": [],
   "source": [
    "# how will we declare variables "
   ]
  },
  {
   "cell_type": "code",
   "execution_count": 4,
   "id": "2dee5af4",
   "metadata": {},
   "outputs": [],
   "source": [
    "a = 10\n",
    "b =22\n",
    "c = 33\n",
    "d=33\n",
    "e=44\n",
    "f=55\n",
    "g = 66\n",
    "h=77\n",
    "r=88\n",
    "q=99\n",
    "m=111\n"
   ]
  },
  {
   "cell_type": "code",
   "execution_count": 5,
   "id": "9b1cf7c8",
   "metadata": {},
   "outputs": [
    {
     "data": {
      "text/plain": [
       "(10, 22)"
      ]
     },
     "execution_count": 5,
     "metadata": {},
     "output_type": "execute_result"
    }
   ],
   "source": [
    "a,b"
   ]
  },
  {
   "cell_type": "code",
   "execution_count": 6,
   "id": "b146b245",
   "metadata": {},
   "outputs": [
    {
     "data": {
      "text/plain": [
       "(10, 22, 33, 33, 44, 55, 66, 77, 88, 99, 111)"
      ]
     },
     "execution_count": 6,
     "metadata": {},
     "output_type": "execute_result"
    }
   ],
   "source": [
    "a,b,c,d,e,f,g,h,r,q,m"
   ]
  },
  {
   "cell_type": "code",
   "execution_count": 7,
   "id": "8281d1aa",
   "metadata": {},
   "outputs": [
    {
     "data": {
      "text/plain": [
       "0.09009009009009009"
      ]
     },
     "execution_count": 7,
     "metadata": {},
     "output_type": "execute_result"
    }
   ],
   "source": [
    "a/m"
   ]
  },
  {
   "cell_type": "code",
   "execution_count": 9,
   "id": "45f3101c",
   "metadata": {},
   "outputs": [
    {
     "name": "stdout",
     "output_type": "stream",
     "text": [
      "enter ur fav colour  pink\n"
     ]
    }
   ],
   "source": [
    "a = input(\"enter ur fav colour  \")"
   ]
  },
  {
   "cell_type": "code",
   "execution_count": 10,
   "id": "1d202632",
   "metadata": {},
   "outputs": [
    {
     "name": "stdout",
     "output_type": "stream",
     "text": [
      "enter your fav fruit     apple\n"
     ]
    }
   ],
   "source": [
    "b = input(\"enter your fav fruit     \") # how we take user input"
   ]
  },
  {
   "cell_type": "code",
   "execution_count": 12,
   "id": "6c90cb73",
   "metadata": {},
   "outputs": [
    {
     "name": "stdout",
     "output_type": "stream",
     "text": [
      "enter your name   zahra\n"
     ]
    }
   ],
   "source": [
    "r = input(\"enter your name   \")"
   ]
  },
  {
   "cell_type": "code",
   "execution_count": 13,
   "id": "2cd4928e",
   "metadata": {},
   "outputs": [
    {
     "data": {
      "text/plain": [
       "('pink', 'apple')"
      ]
     },
     "execution_count": 13,
     "metadata": {},
     "output_type": "execute_result"
    }
   ],
   "source": [
    "a,b,"
   ]
  },
  {
   "cell_type": "code",
   "execution_count": 14,
   "id": "a1661dfd",
   "metadata": {},
   "outputs": [
    {
     "name": "stdout",
     "output_type": "stream",
     "text": [
      "enter your age      11\n"
     ]
    }
   ],
   "source": [
    "g = input(\"enter your age      \")"
   ]
  },
  {
   "cell_type": "code",
   "execution_count": 15,
   "id": "c810e732",
   "metadata": {},
   "outputs": [
    {
     "data": {
      "text/plain": [
       "('11', 'zahra')"
      ]
     },
     "execution_count": 15,
     "metadata": {},
     "output_type": "execute_result"
    }
   ],
   "source": [
    "g,r"
   ]
  },
  {
   "cell_type": "code",
   "execution_count": 18,
   "id": "421841f6",
   "metadata": {},
   "outputs": [
    {
     "name": "stdout",
     "output_type": "stream",
     "text": [
      " enter your hobby   art\n"
     ]
    }
   ],
   "source": [
    "j = input(\" enter your hobby   \")"
   ]
  },
  {
   "cell_type": "code",
   "execution_count": null,
   "id": "5f9c6a6f",
   "metadata": {},
   "outputs": [],
   "source": []
  }
 ],
 "metadata": {
  "kernelspec": {
   "display_name": "Python 3 (ipykernel)",
   "language": "python",
   "name": "python3"
  },
  "language_info": {
   "codemirror_mode": {
    "name": "ipython",
    "version": 3
   },
   "file_extension": ".py",
   "mimetype": "text/x-python",
   "name": "python",
   "nbconvert_exporter": "python",
   "pygments_lexer": "ipython3",
   "version": "3.11.5"
  }
 },
 "nbformat": 4,
 "nbformat_minor": 5
}
