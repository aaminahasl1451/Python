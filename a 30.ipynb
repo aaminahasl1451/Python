{
 "cells": [
  {
   "cell_type": "code",
   "execution_count": 1,
   "id": "a0bfc857",
   "metadata": {},
   "outputs": [],
   "source": [
    "# class"
   ]
  },
  {
   "cell_type": "code",
   "execution_count": 7,
   "id": "1cd37aa7",
   "metadata": {},
   "outputs": [],
   "source": [
    "class math:\n",
    "    def ava(self):\n",
    "        print(\"heloo ava\")\n",
    "    \n",
    "    def zz(self):\n",
    "        print(\"heloo zz\")\n",
    "    \n",
    "    def sa(self):\n",
    "        print(\"heloo sa\")\n",
    "    "
   ]
  },
  {
   "cell_type": "code",
   "execution_count": 8,
   "id": "94262635",
   "metadata": {},
   "outputs": [],
   "source": [
    "Math= math()"
   ]
  },
  {
   "cell_type": "code",
   "execution_count": 9,
   "id": "33eac687",
   "metadata": {},
   "outputs": [
    {
     "name": "stdout",
     "output_type": "stream",
     "text": [
      "heloo ava\n"
     ]
    }
   ],
   "source": [
    "Math.ava()"
   ]
  },
  {
   "cell_type": "code",
   "execution_count": 10,
   "id": "5365d17c",
   "metadata": {},
   "outputs": [
    {
     "name": "stdout",
     "output_type": "stream",
     "text": [
      "heloo zz\n"
     ]
    }
   ],
   "source": [
    "Math.zz()"
   ]
  },
  {
   "cell_type": "code",
   "execution_count": 11,
   "id": "e3536f0e",
   "metadata": {},
   "outputs": [
    {
     "name": "stdout",
     "output_type": "stream",
     "text": [
      "heloo sa\n"
     ]
    }
   ],
   "source": [
    "Math.sa()"
   ]
  },
  {
   "cell_type": "code",
   "execution_count": null,
   "id": "977565f0",
   "metadata": {},
   "outputs": [],
   "source": []
  }
 ],
 "metadata": {
  "kernelspec": {
   "display_name": "Python 3 (ipykernel)",
   "language": "python",
   "name": "python3"
  },
  "language_info": {
   "codemirror_mode": {
    "name": "ipython",
    "version": 3
   },
   "file_extension": ".py",
   "mimetype": "text/x-python",
   "name": "python",
   "nbconvert_exporter": "python",
   "pygments_lexer": "ipython3",
   "version": "3.11.5"
  }
 },
 "nbformat": 4,
 "nbformat_minor": 5
}
