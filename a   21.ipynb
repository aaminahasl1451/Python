{
 "cells": [
  {
   "cell_type": "markdown",
   "id": "7fe9faa6",
   "metadata": {},
   "source": [
    "# independant work"
   ]
  },
  {
   "cell_type": "code",
   "execution_count": 3,
   "id": "916dd8c2",
   "metadata": {},
   "outputs": [],
   "source": [
    "def faizu (f,a,i,z,u):\n",
    "    return f+a/i*z-u"
   ]
  },
  {
   "cell_type": "code",
   "execution_count": 4,
   "id": "e2c47740",
   "metadata": {},
   "outputs": [
    {
     "data": {
      "text/plain": [
       "135.0"
      ]
     },
     "execution_count": 4,
     "metadata": {},
     "output_type": "execute_result"
    }
   ],
   "source": [
    "faizu(50,50,2,4,15)"
   ]
  },
  {
   "cell_type": "code",
   "execution_count": 5,
   "id": "176d717b",
   "metadata": {},
   "outputs": [],
   "source": [
    "def kppo (p,o,v):\n",
    "    return p*o-v"
   ]
  },
  {
   "cell_type": "code",
   "execution_count": 6,
   "id": "5cb2f9b4",
   "metadata": {},
   "outputs": [
    {
     "data": {
      "text/plain": [
       "1170"
      ]
     },
     "execution_count": 6,
     "metadata": {},
     "output_type": "execute_result"
    }
   ],
   "source": [
    "kppo(245,5,55)"
   ]
  },
  {
   "cell_type": "code",
   "execution_count": 8,
   "id": "95cedfa8",
   "metadata": {},
   "outputs": [],
   "source": [
    "mimi = {\"my\":\"z4hr4\",\"my2\":\"A4min4h\", \"my3\":\"z4in4b\",\"my4\":\"du4\",\"my5\":\"m4h4\",\"my6\":\"s3h4r\",\"my7\":\"ny14\",\"my8\":\"uzm4\"}"
   ]
  },
  {
   "cell_type": "code",
   "execution_count": 10,
   "id": "51bf506a",
   "metadata": {},
   "outputs": [
    {
     "data": {
      "text/plain": [
       "8"
      ]
     },
     "execution_count": 10,
     "metadata": {},
     "output_type": "execute_result"
    }
   ],
   "source": [
    "len(mimi)"
   ]
  },
  {
   "cell_type": "code",
   "execution_count": 11,
   "id": "720e4307",
   "metadata": {},
   "outputs": [
    {
     "data": {
      "text/plain": [
       "'du4'"
      ]
     },
     "execution_count": 11,
     "metadata": {},
     "output_type": "execute_result"
    }
   ],
   "source": [
    "mimi[\"my4\"]"
   ]
  },
  {
   "cell_type": "code",
   "execution_count": 21,
   "id": "e4401b5a",
   "metadata": {},
   "outputs": [
    {
     "data": {
      "text/plain": [
       "{'my': 'z4hr4',\n",
       " 'my2': 'aaaammiinnaahh',\n",
       " 'my3': 'zainab',\n",
       " 'my4': 'dua',\n",
       " 'my5': 'maha',\n",
       " 'my6': 'sehar',\n",
       " 'my7': 'nyla',\n",
       " 'my8': 'uzma'}"
      ]
     },
     "execution_count": 21,
     "metadata": {},
     "output_type": "execute_result"
    }
   ],
   "source": [
    "mimi"
   ]
  },
  {
   "cell_type": "code",
   "execution_count": 22,
   "id": "abac888f",
   "metadata": {},
   "outputs": [],
   "source": [
    "mimi[\"my2\"]=\"aaminah\""
   ]
  },
  {
   "cell_type": "code",
   "execution_count": 23,
   "id": "71cd0818",
   "metadata": {},
   "outputs": [],
   "source": [
    "mimi[\"my3\"]=\"zainab\""
   ]
  },
  {
   "cell_type": "code",
   "execution_count": 24,
   "id": "eea90bff",
   "metadata": {},
   "outputs": [],
   "source": [
    "mimi[\"my4\"]=\"dua\""
   ]
  },
  {
   "cell_type": "code",
   "execution_count": 25,
   "id": "c13fd83c",
   "metadata": {},
   "outputs": [],
   "source": [
    "mimi[\"my5\"]=\"maha\""
   ]
  },
  {
   "cell_type": "code",
   "execution_count": 26,
   "id": "72efb301",
   "metadata": {},
   "outputs": [],
   "source": [
    "mimi[\"my6\"]=\"sehar\""
   ]
  },
  {
   "cell_type": "code",
   "execution_count": 27,
   "id": "e0fe97ad",
   "metadata": {},
   "outputs": [],
   "source": [
    "mimi[\"my7\"]=\"nyla\""
   ]
  },
  {
   "cell_type": "code",
   "execution_count": 28,
   "id": "f968b8f2",
   "metadata": {},
   "outputs": [],
   "source": [
    "mimi[\"my8\"]=\"uzma\""
   ]
  },
  {
   "cell_type": "code",
   "execution_count": 29,
   "id": "d39a85d3",
   "metadata": {},
   "outputs": [
    {
     "data": {
      "text/plain": [
       "{'my': 'z4hr4',\n",
       " 'my2': 'aaminah',\n",
       " 'my3': 'zainab',\n",
       " 'my4': 'dua',\n",
       " 'my5': 'maha',\n",
       " 'my6': 'sehar',\n",
       " 'my7': 'nyla',\n",
       " 'my8': 'uzma'}"
      ]
     },
     "execution_count": 29,
     "metadata": {},
     "output_type": "execute_result"
    }
   ],
   "source": []
  },
  {
   "cell_type": "code",
   "execution_count": null,
   "id": "e3e837fe",
   "metadata": {},
   "outputs": [],
   "source": []
  }
 ],
 "metadata": {
  "kernelspec": {
   "display_name": "Python 3 (ipykernel)",
   "language": "python",
   "name": "python3"
  },
  "language_info": {
   "codemirror_mode": {
    "name": "ipython",
    "version": 3
   },
   "file_extension": ".py",
   "mimetype": "text/x-python",
   "name": "python",
   "nbconvert_exporter": "python",
   "pygments_lexer": "ipython3",
   "version": "3.11.5"
  }
 },
 "nbformat": 4,
 "nbformat_minor": 5
}
