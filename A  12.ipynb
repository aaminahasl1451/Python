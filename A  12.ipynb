{
 "cells": [
  {
   "cell_type": "markdown",
   "id": "594bc11a",
   "metadata": {},
   "source": [
    "# for loop"
   ]
  },
  {
   "cell_type": "code",
   "execution_count": 11,
   "id": "f74fb445",
   "metadata": {},
   "outputs": [],
   "source": [
    "z=\"zzzaaaiiinnnaaabbb=111555\""
   ]
  },
  {
   "cell_type": "markdown",
   "id": "08d3ed42",
   "metadata": {},
   "source": [
    "# in Python, a for loop is used to iterate over a sequence (such as a list, tuple, string, or dictionary) or an iterable object. "
   ]
  },
  {
   "cell_type": "code",
   "execution_count": 13,
   "id": "d1d0eb09",
   "metadata": {},
   "outputs": [
    {
     "name": "stdout",
     "output_type": "stream",
     "text": [
      "zzzaaaiiinnnaabbb=111555tmrw\n",
      "zzzaaaiiinnnaabbb=111555tmrw\n",
      "zzzaaaiiinnnaabbb=111555tmrw\n",
      "zzzaaaiiinnnaabbb=111555tmrw\n",
      "zzzaaaiiinnnaabbb=111555tmrw\n",
      "zzzaaaiiinnnaabbb=111555tmrw\n",
      "zzzaaaiiinnnaabbb=111555tmrw\n",
      "zzzaaaiiinnnaabbb=111555tmrw\n",
      "zzzaaaiiinnnaabbb=111555tmrw\n",
      "zzzaaaiiinnnaabbb=111555tmrw\n",
      "zzzaaaiiinnnaabbb=111555tmrw\n",
      "zzzaaaiiinnnaabbb=111555tmrw\n",
      "zzzaaaiiinnnaabbb=111555tmrw\n",
      "zzzaaaiiinnnaabbb=111555tmrw\n",
      "zzzaaaiiinnnaabbb=111555tmrw\n",
      "zzzaaaiiinnnaabbb=111555tmrw\n",
      "zzzaaaiiinnnaabbb=111555tmrw\n",
      "zzzaaaiiinnnaabbb=111555tmrw\n",
      "zzzaaaiiinnnaabbb=111555tmrw\n",
      "zzzaaaiiinnnaabbb=111555tmrw\n",
      "zzzaaaiiinnnaabbb=111555tmrw\n",
      "zzzaaaiiinnnaabbb=111555tmrw\n",
      "zzzaaaiiinnnaabbb=111555tmrw\n",
      "zzzaaaiiinnnaabbb=111555tmrw\n",
      "zzzaaaiiinnnaabbb=111555tmrw\n"
     ]
    }
   ],
   "source": [
    "for i in z:\n",
    "    print(\"zzzaaaiiinnnaabbb=111555tmrw\")"
   ]
  },
  {
   "cell_type": "markdown",
   "id": "0e8b2363",
   "metadata": {},
   "source": [
    "# range() function"
   ]
  },
  {
   "cell_type": "markdown",
   "id": "d6427ee1",
   "metadata": {},
   "source": [
    "# In Python, the range() function generates a sequence of numbers within a specified range. It's commonly used in for loops to iterate a specific number of times."
   ]
  },
  {
   "cell_type": "markdown",
   "id": "a8868d44",
   "metadata": {},
   "source": [
    "# range(start, stop, step)\n"
   ]
  },
  {
   "cell_type": "code",
   "execution_count": 14,
   "id": "3e51219d",
   "metadata": {},
   "outputs": [],
   "source": [
    "# start= optional\n",
    "# stop = required\n",
    "# step = optional"
   ]
  },
  {
   "cell_type": "code",
   "execution_count": 24,
   "id": "e0cae8d1",
   "metadata": {},
   "outputs": [
    {
     "name": "stdout",
     "output_type": "stream",
     "text": [
      "1 aaminah is the best\n",
      "6 aaminah is the best\n"
     ]
    }
   ],
   "source": [
    "for i in range(1,11,5):\n",
    "    print(i,\"aaminah is the best\")"
   ]
  },
  {
   "cell_type": "code",
   "execution_count": null,
   "id": "bb643355",
   "metadata": {},
   "outputs": [],
   "source": []
  }
 ],
 "metadata": {
  "kernelspec": {
   "display_name": "Python 3 (ipykernel)",
   "language": "python",
   "name": "python3"
  },
  "language_info": {
   "codemirror_mode": {
    "name": "ipython",
    "version": 3
   },
   "file_extension": ".py",
   "mimetype": "text/x-python",
   "name": "python",
   "nbconvert_exporter": "python",
   "pygments_lexer": "ipython3",
   "version": "3.11.5"
  }
 },
 "nbformat": 4,
 "nbformat_minor": 5
}
