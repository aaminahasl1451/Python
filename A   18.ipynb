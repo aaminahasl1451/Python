{
 "cells": [
  {
   "cell_type": "code",
   "execution_count": 1,
   "id": "a87851df",
   "metadata": {},
   "outputs": [
    {
     "name": "stdout",
     "output_type": "stream",
     "text": [
      "Enter the number of key-value pairs to add: 8\n",
      "Enter key 1: 3\n",
      "Enter value 1: 6\n",
      "Enter key 2: 9\n",
      "Enter value 2: 12\n",
      "Enter key 3: 15\n",
      "Enter value 3: 18\n",
      "Enter key 4: 21\n",
      "Enter value 4: 24\n",
      "Enter key 5: 27\n",
      "Enter value 5: 30\n",
      "Enter key 6: 33\n",
      "Enter value 6: 36\n",
      "Enter key 7: 42\n",
      "Enter value 7: 45\n",
      "Enter key 8: 48\n",
      "Enter value 8: 51\n",
      "Resulting Dictionary:\n",
      "{'3': '6', '9': '12', '15': '18', '21': '24', '27': '30', '33': '36', '42': '45', '48': '51'}\n"
     ]
    }
   ],
   "source": [
    "# Initialize an empty dictionary\n",
    "my_dict = {}\n",
    "\n",
    "# Get user input for adding key-value pairs\n",
    "num_pairs = int(input(\"Enter the number of key-value pairs to add: \"))\n",
    "\n",
    "for i in range(num_pairs):\n",
    "    key = input(f\"Enter key {i + 1}: \")\n",
    "    value = input(f\"Enter value {i + 1}: \")\n",
    "    \n",
    "    # Add the key-value pair to the dictionary\n",
    "    my_dict[key] = value\n",
    "\n",
    "# Display the resulting dictionary\n",
    "print(\"Resulting Dictionary:\")\n",
    "print(my_dict)\n"
   ]
  },
  {
   "cell_type": "code",
   "execution_count": 2,
   "id": "9e2bd399",
   "metadata": {},
   "outputs": [
    {
     "name": "stdout",
     "output_type": "stream",
     "text": [
      "Enter the number of key-value pairs to add: 3\n",
      "Enter key 1: std1\n",
      "Enter value 1: Aaminah\n",
      "Enter key 2: std2\n",
      "Enter value 2: Fatimah\n",
      "Enter key 3: std\n",
      "Enter value 3: Zaha\n",
      "Resulting Dictionary:\n",
      "{'std1': 'Aaminah', 'std2': 'Fatimah', 'std': 'Zaha'}\n"
     ]
    }
   ],
   "source": [
    "# Initialize an empty dictionary\n",
    "my_dict = {}\n",
    "\n",
    "# Get user input for adding key-value pairs\n",
    "num_pairs = int(input(\"Enter the number of key-value pairs to add: \"))\n",
    "\n",
    "for i in range(num_pairs):\n",
    "    key = input(f\"Enter key {i + 1}: \")\n",
    "    value = input(f\"Enter value {i + 1}: \")\n",
    "    \n",
    "    # Add the key-value pair to the dictionary\n",
    "    my_dict[key] = value\n",
    "\n",
    "# Display the resulting dictionary\n",
    "print(\"Resulting Dictionary:\")\n",
    "print(my_dict)"
   ]
  },
  {
   "cell_type": "code",
   "execution_count": 3,
   "id": "a358ba00",
   "metadata": {},
   "outputs": [
    {
     "data": {
      "text/plain": [
       "{'std1': 'Aaminah', 'std2': 'Fatimah', 'std': 'Zaha'}"
      ]
     },
     "execution_count": 3,
     "metadata": {},
     "output_type": "execute_result"
    }
   ],
   "source": [
    "my_dict"
   ]
  },
  {
   "cell_type": "code",
   "execution_count": 4,
   "id": "594837be",
   "metadata": {},
   "outputs": [
    {
     "data": {
      "text/plain": [
       "dict_keys(['std1', 'std2', 'std'])"
      ]
     },
     "execution_count": 4,
     "metadata": {},
     "output_type": "execute_result"
    }
   ],
   "source": [
    "my_dict.keys()"
   ]
  },
  {
   "cell_type": "code",
   "execution_count": 5,
   "id": "624ce9ef",
   "metadata": {},
   "outputs": [
    {
     "data": {
      "text/plain": [
       "dict_values(['Aaminah', 'Fatimah', 'Zaha'])"
      ]
     },
     "execution_count": 5,
     "metadata": {},
     "output_type": "execute_result"
    }
   ],
   "source": [
    "my_dict.values()"
   ]
  },
  {
   "cell_type": "code",
   "execution_count": 6,
   "id": "cbc8d76f",
   "metadata": {},
   "outputs": [
    {
     "data": {
      "text/plain": [
       "dict_items([('std1', 'Aaminah'), ('std2', 'Fatimah'), ('std', 'Zaha')])"
      ]
     },
     "execution_count": 6,
     "metadata": {},
     "output_type": "execute_result"
    }
   ],
   "source": [
    "my_dict.items()"
   ]
  },
  {
   "cell_type": "code",
   "execution_count": 8,
   "id": "c5bbe62c",
   "metadata": {},
   "outputs": [
    {
     "name": "stdout",
     "output_type": "stream",
     "text": [
      "std1\n",
      "std2\n",
      "std\n"
     ]
    }
   ],
   "source": [
    "for zahra_life_love in my_dict:\n",
    "    print(zahra_life_love)"
   ]
  },
  {
   "cell_type": "code",
   "execution_count": 12,
   "id": "5fcfd7e9",
   "metadata": {},
   "outputs": [
    {
     "name": "stdout",
     "output_type": "stream",
     "text": [
      "std1 : Aaminah\n",
      "std2 : Fatimah\n",
      "std : Zaha\n"
     ]
    }
   ],
   "source": [
    "for a,z in my_dict.items():\n",
    "    print(a,\":\",z)"
   ]
  },
  {
   "cell_type": "raw",
   "id": "e3a85924",
   "metadata": {},
   "source": [
    "# Initialize an empty dictionary\n",
    "my_dict = {}\n",
    "\n",
    "# Get user input for adding key-value pairs\n",
    "num_pairs = int(input(\"Enter the number of key-value pairs to add: \"))\n",
    "\n",
    "for i in range(num_pairs):\n",
    "    key = input(f\"Enter key {i + 1}: \")\n",
    "    value = input(f\"Enter value {i + 1}: \")\n",
    "    \n",
    "    # Add the key-value pair to the dictionary\n",
    "    my_dict[key] = value\n",
    "\n",
    "# Display the resulting dictionary\n",
    "print(\"Resulting Dictionary:\")\n",
    "print(my_dict)\n"
   ]
  },
  {
   "cell_type": "markdown",
   "id": "e9a2e9dc",
   "metadata": {},
   "source": [
    "# Initialize an empty dictionary\n",
    "my_dict = {}\n",
    "\n",
    "# Get user input for adding key-value pairs\n",
    "num_pairs = int(input(\"Enter the number of key-value pairs to add: \"))\n",
    "\n",
    "for i in range(num_pairs):\n",
    "    key = input(f\"Enter key {i + 1}: \")\n",
    "    value = input(f\"Enter value {i + 1}: \")\n",
    "    \n",
    "    # Add the key-value pair to the dictionary\n",
    "    my_dict[key] = value\n",
    "\n",
    "# Display the resulting dictionary\n",
    "print(\"Resulting Dictionary:\")\n",
    "print(my_dict)"
   ]
  },
  {
   "cell_type": "markdown",
   "id": "2490262d",
   "metadata": {},
   "source": [
    "# Initialize an empty dictionary\n",
    "my_dict = {}\n",
    "\n",
    "# Get user input for adding key-value pairs\n",
    "num_pairs = int(input(\"Enter the number of key-value pairs to add: \"))\n",
    "\n",
    "for i in range(num_pairs):\n",
    "    key = input(f\"Enter key {i + 1}: \")\n",
    "    value = input(f\"Enter value {i + 1}: \")\n",
    "    \n",
    "    # Add the key-value pair to the dictionary\n",
    "    my_dict[key] = value\n",
    "\n",
    "# Display the resulting dictionary\n",
    "print(\"Resulting Dictionary:\")\n",
    "print(my_dict)"
   ]
  },
  {
   "cell_type": "code",
   "execution_count": null,
   "id": "88de9b59",
   "metadata": {},
   "outputs": [],
   "source": [
    "# Initialize an empty dictionary\n",
    "my_dict = {}\n",
    "\n",
    "# Get user input for adding key-value pairs\n",
    "num_pairs = int(input(\"Enter the number of key-value pairs to add: \"))\n",
    "\n",
    "for i in range(num_pairs):\n",
    "    key = input(f\"Enter key {i + 1}: \")\n",
    "    value = input(f\"Enter value {i + 1}: \")\n",
    "    \n",
    "    # Add the key-value pair to the dictionary\n",
    "    my_dict[key] = value\n",
    "\n",
    "# Display the resulting dictionary\n",
    "print(\"Resulting Dictionary:\")\n",
    "print(my_dict)"
   ]
  },
  {
   "cell_type": "code",
   "execution_count": 5,
   "id": "2ad3214e",
   "metadata": {},
   "outputs": [
    {
     "name": "stdout",
     "output_type": "stream",
     "text": [
      "Enter the number of key-value pairs to add: 10\n",
      "Enter key 1: 12\n",
      "Enter value 1: 43\n",
      "Enter key 2: 54\n",
      "Enter value 2: 6\n",
      "Enter key 3: 56\n",
      "Enter value 3: 234\n",
      "Enter key 4: 78\n",
      "Enter value 4: 90\n",
      "Enter key 5: 12\n",
      "Enter value 5: r\n",
      "Enter key 6: df\n",
      "Enter value 6: n\n",
      "Enter key 7: bvf\n",
      "Enter value 7: s\n",
      "Enter key 8: \n",
      "Enter value 8: yi\n",
      "Enter key 9: kj\n",
      "Enter value 9: nb\n",
      "Enter key 10: v\n",
      "Enter value 10: cds\n",
      "Resulting Dictionary:\n",
      "{'12': 'r', '54': '6', '56': '234', '78': '90', 'df': 'n', 'bvf': 's', '': 'yi', 'kj': 'nb', 'v': 'cds'}\n"
     ]
    }
   ],
   "source": [
    "# Initialize an empty dictionary\n",
    "my_dict = {}\n",
    "\n",
    "# Get user input for adding key-value pairs\n",
    "num_pairs = int(input(\"Enter the number of key-value pairs to add: \"))\n",
    "\n",
    "for i in range(num_pairs):\n",
    "    key = input(f\"Enter key {i + 1}: \")\n",
    "    value = input(f\"Enter value {i + 1}: \")\n",
    "    \n",
    "    # Add the key-value pair to the dictionary\n",
    "    my_dict[key] = value\n",
    "\n",
    "# Display the resulting dictionary\n",
    "print(\"Resulting Dictionary:\")\n",
    "print(my_dict)"
   ]
  },
  {
   "cell_type": "code",
   "execution_count": null,
   "id": "f3a07a4e",
   "metadata": {},
   "outputs": [],
   "source": []
  },
  {
   "cell_type": "code",
   "execution_count": null,
   "id": "e828e343",
   "metadata": {},
   "outputs": [],
   "source": [
    "\n"
   ]
  }
 ],
 "metadata": {
  "kernelspec": {
   "display_name": "Python 3 (ipykernel)",
   "language": "python",
   "name": "python3"
  },
  "language_info": {
   "codemirror_mode": {
    "name": "ipython",
    "version": 3
   },
   "file_extension": ".py",
   "mimetype": "text/x-python",
   "name": "python",
   "nbconvert_exporter": "python",
   "pygments_lexer": "ipython3",
   "version": "3.11.5"
  }
 },
 "nbformat": 4,
 "nbformat_minor": 5
}
