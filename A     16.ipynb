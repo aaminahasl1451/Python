{
 "cells": [
  {
   "cell_type": "markdown",
   "id": "130753d7",
   "metadata": {},
   "source": [
    "# tuple in python"
   ]
  },
  {
   "cell_type": "markdown",
   "id": "e89a6f93",
   "metadata": {},
   "source": [
    "# In Python, a tuple is a collection data type that is similar to a list. However, tuples are immutable, meaning that once they are created, their elements cannot be modified or changed. Tuples are defined using parentheses ()."
   ]
  },
  {
   "cell_type": "code",
   "execution_count": 1,
   "id": "9b293e55",
   "metadata": {},
   "outputs": [],
   "source": [
    "tuple1 =(\"zahra1/1/23\",\"aaminah13/09/12\",\"zainab15/12/2006\")"
   ]
  },
  {
   "cell_type": "code",
   "execution_count": 2,
   "id": "6605de2d",
   "metadata": {},
   "outputs": [
    {
     "name": "stdout",
     "output_type": "stream",
     "text": [
      "('zahra1/1/23', 'aaminah13/09/12', 'zainab15/12/2006')\n"
     ]
    }
   ],
   "source": [
    "print(tuple1)"
   ]
  },
  {
   "cell_type": "code",
   "execution_count": 5,
   "id": "d187ea38",
   "metadata": {},
   "outputs": [
    {
     "data": {
      "text/plain": [
       "'aaminah13/09/12'"
      ]
     },
     "execution_count": 5,
     "metadata": {},
     "output_type": "execute_result"
    }
   ],
   "source": [
    "tuple1[1]"
   ]
  },
  {
   "cell_type": "code",
   "execution_count": 6,
   "id": "b73ee893",
   "metadata": {},
   "outputs": [
    {
     "data": {
      "text/plain": [
       "tuple"
      ]
     },
     "execution_count": 6,
     "metadata": {},
     "output_type": "execute_result"
    }
   ],
   "source": [
    "type(tuple1)"
   ]
  },
  {
   "cell_type": "code",
   "execution_count": 7,
   "id": "342175ba",
   "metadata": {},
   "outputs": [
    {
     "data": {
      "text/plain": [
       "tuple"
      ]
     },
     "execution_count": 7,
     "metadata": {},
     "output_type": "execute_result"
    }
   ],
   "source": [
    "tuple2=[]\n",
    "list2 = ()\n",
    "type(list2)"
   ]
  },
  {
   "cell_type": "code",
   "execution_count": 8,
   "id": "b9a24258",
   "metadata": {},
   "outputs": [],
   "source": [
    "tuple3=('Aaminah',\"Ayeesha\",\"Asma\",\"Aisha\")"
   ]
  },
  {
   "cell_type": "code",
   "execution_count": 9,
   "id": "3527324b",
   "metadata": {},
   "outputs": [
    {
     "data": {
      "text/plain": [
       "False"
      ]
     },
     "execution_count": 9,
     "metadata": {},
     "output_type": "execute_result"
    }
   ],
   "source": [
    "\"Aleena\" in tuple3"
   ]
  },
  {
   "cell_type": "code",
   "execution_count": 10,
   "id": "c5a31061",
   "metadata": {},
   "outputs": [
    {
     "data": {
      "text/plain": [
       "True"
      ]
     },
     "execution_count": 10,
     "metadata": {},
     "output_type": "execute_result"
    }
   ],
   "source": [
    "\"Aaminah\" in tuple3"
   ]
  },
  {
   "cell_type": "code",
   "execution_count": 11,
   "id": "65d9e03e",
   "metadata": {},
   "outputs": [
    {
     "data": {
      "text/plain": [
       "False"
      ]
     },
     "execution_count": 11,
     "metadata": {},
     "output_type": "execute_result"
    }
   ],
   "source": [
    "\"zahra\" in tuple3"
   ]
  },
  {
   "cell_type": "code",
   "execution_count": 13,
   "id": "148f02e6",
   "metadata": {},
   "outputs": [
    {
     "data": {
      "text/plain": [
       "4"
      ]
     },
     "execution_count": 13,
     "metadata": {},
     "output_type": "execute_result"
    }
   ],
   "source": [
    "len(tuple3)"
   ]
  },
  {
   "cell_type": "code",
   "execution_count": 15,
   "id": "c008a5e4",
   "metadata": {},
   "outputs": [],
   "source": [
    "tuple4=tuple3[0:2] # first number is Index Number and Second Numver is Lenght Number"
   ]
  },
  {
   "cell_type": "code",
   "execution_count": 17,
   "id": "2455d5bb",
   "metadata": {},
   "outputs": [
    {
     "name": "stdout",
     "output_type": "stream",
     "text": [
      "('Aaminah', 'Ayeesha')\n"
     ]
    }
   ],
   "source": [
    "print(tuple4)"
   ]
  },
  {
   "cell_type": "code",
   "execution_count": 18,
   "id": "3b6e36d9",
   "metadata": {},
   "outputs": [],
   "source": [
    "a,b=tuple4 "
   ]
  },
  {
   "cell_type": "code",
   "execution_count": 19,
   "id": "bdaf2cc3",
   "metadata": {},
   "outputs": [
    {
     "data": {
      "text/plain": [
       "'Aaminah'"
      ]
     },
     "execution_count": 19,
     "metadata": {},
     "output_type": "execute_result"
    }
   ],
   "source": [
    "a"
   ]
  },
  {
   "cell_type": "code",
   "execution_count": 20,
   "id": "09244426",
   "metadata": {},
   "outputs": [
    {
     "data": {
      "text/plain": [
       "'Ayeesha'"
      ]
     },
     "execution_count": 20,
     "metadata": {},
     "output_type": "execute_result"
    }
   ],
   "source": [
    "b"
   ]
  },
  {
   "cell_type": "code",
   "execution_count": 21,
   "id": "1d1bd24d",
   "metadata": {},
   "outputs": [
    {
     "data": {
      "text/plain": [
       "('Aaminah', 'Ayeesha', 'Asma', 'aisha')"
      ]
     },
     "execution_count": 21,
     "metadata": {},
     "output_type": "execute_result"
    }
   ],
   "source": [
    "tuple3"
   ]
  },
  {
   "cell_type": "code",
   "execution_count": 25,
   "id": "562e4eac",
   "metadata": {},
   "outputs": [
    {
     "name": "stdout",
     "output_type": "stream",
     "text": [
      "Aaminah\n",
      "Ayeesha\n",
      "Asma\n",
      "aisha\n"
     ]
    }
   ],
   "source": [
    "for z in tuple3:\n",
    "    print(z)"
   ]
  },
  {
   "cell_type": "markdown",
   "id": "6654cb99",
   "metadata": {},
   "source": [
    "# dictionary "
   ]
  },
  {
   "cell_type": "markdown",
   "id": "8debeb40",
   "metadata": {},
   "source": [
    "# In Python, a dictionary is a built-in data type that allows you to store and retrieve key-value pairs. Dictionaries are defined using curly braces {}, and each key-value pair is separated by a colon :"
   ]
  },
  {
   "cell_type": "code",
   "execution_count": 38,
   "id": "c83e6bb1",
   "metadata": {},
   "outputs": [],
   "source": [
    "dict1 = {\"n1\":\"Aaminah\",\"n2\":\"Aaliah\"}"
   ]
  },
  {
   "cell_type": "code",
   "execution_count": 39,
   "id": "0ee11713",
   "metadata": {},
   "outputs": [
    {
     "name": "stdout",
     "output_type": "stream",
     "text": [
      "{'n1': 'Aaminah', 'n2': 'Aaliah'}\n"
     ]
    }
   ],
   "source": [
    "print(dict1)"
   ]
  },
  {
   "cell_type": "code",
   "execution_count": 40,
   "id": "52ed8b8b",
   "metadata": {},
   "outputs": [
    {
     "data": {
      "text/plain": [
       "'Aaminah'"
      ]
     },
     "execution_count": 40,
     "metadata": {},
     "output_type": "execute_result"
    }
   ],
   "source": [
    "dict1['n1']"
   ]
  },
  {
   "cell_type": "code",
   "execution_count": 47,
   "id": "dd175cfe",
   "metadata": {},
   "outputs": [
    {
     "data": {
      "text/plain": [
       "'Aaliah'"
      ]
     },
     "execution_count": 47,
     "metadata": {},
     "output_type": "execute_result"
    }
   ],
   "source": [
    "dict1['n2']"
   ]
  },
  {
   "cell_type": "code",
   "execution_count": 46,
   "id": "219a7f5b",
   "metadata": {},
   "outputs": [
    {
     "name": "stdout",
     "output_type": "stream",
     "text": [
      "n1\n",
      "n2\n"
     ]
    }
   ],
   "source": [
    "for loop in dict1:\n",
    "    print(loop)"
   ]
  },
  {
   "cell_type": "code",
   "execution_count": 57,
   "id": "a6c4c2aa",
   "metadata": {},
   "outputs": [
    {
     "name": "stdout",
     "output_type": "stream",
     "text": [
      "Aaminah\n",
      "Aaliah\n"
     ]
    }
   ],
   "source": [
    "for zahra in dict1.values():\n",
    "    print(zahra)"
   ]
  },
  {
   "cell_type": "code",
   "execution_count": null,
   "id": "61d25bef",
   "metadata": {},
   "outputs": [],
   "source": []
  }
 ],
 "metadata": {
  "kernelspec": {
   "display_name": "Python 3 (ipykernel)",
   "language": "python",
   "name": "python3"
  },
  "language_info": {
   "codemirror_mode": {
    "name": "ipython",
    "version": 3
   },
   "file_extension": ".py",
   "mimetype": "text/x-python",
   "name": "python",
   "nbconvert_exporter": "python",
   "pygments_lexer": "ipython3",
   "version": "3.11.5"
  }
 },
 "nbformat": 4,
 "nbformat_minor": 5
}
