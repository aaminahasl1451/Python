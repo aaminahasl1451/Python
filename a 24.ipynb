{
 "cells": [
  {
   "cell_type": "markdown",
   "id": "97855fb0",
   "metadata": {},
   "source": [
    "# define functuon"
   ]
  },
  {
   "cell_type": "code",
   "execution_count": 6,
   "id": "c73038dd",
   "metadata": {},
   "outputs": [],
   "source": [
    "def zahra():\n",
    "    print(\"zahra's information:\")\n",
    "    print(\"born_1st January 2023\")\n",
    "    print(\"3 siblings\")\n",
    "    print(\"loves cocomelon JJ doll\")\n",
    "    print(\"scared of balls\")\n",
    "    print(\"fav cartoon rachal+cocomelon\")\n",
    "    print(\"she is 1 years old\")\n",
    "    print(\"she has a bfffff called zahara\")"
   ]
  },
  {
   "cell_type": "code",
   "execution_count": 7,
   "id": "fa539fbc",
   "metadata": {},
   "outputs": [
    {
     "name": "stdout",
     "output_type": "stream",
     "text": [
      "zahra's information:\n",
      "born_1st January 2023\n",
      "3 siblings\n",
      "loves cocomelon JJ doll\n",
      "scared of balls\n",
      "fav cartoon rachal+cocomelon\n",
      "she is 1 years old\n",
      "she has a bfffff called zahara\n"
     ]
    }
   ],
   "source": [
    "zahra()"
   ]
  },
  {
   "cell_type": "code",
   "execution_count": 11,
   "id": "6ecdf72f",
   "metadata": {},
   "outputs": [
    {
     "name": "stdout",
     "output_type": "stream",
     "text": [
      "2 X 1 = 2\n",
      "2 X 2 = 4\n",
      "2 X 3 = 6\n",
      "2 X 4 = 8\n",
      "2 X 5 = 10\n",
      "2 X 6 = 12\n",
      "2 X 7 = 14\n",
      "2 X 8 = 16\n",
      "2 X 9 = 18\n",
      "2 X 10 = 20\n"
     ]
    }
   ],
   "source": [
    "for a in range(1,11,1):\n",
    "    print(\"2 X\",a,\"=\",a*2)"
   ]
  },
  {
   "cell_type": "markdown",
   "id": "5323dda6",
   "metadata": {},
   "source": [
    "# table of 2"
   ]
  },
  {
   "cell_type": "code",
   "execution_count": 16,
   "id": "8febb6f6",
   "metadata": {},
   "outputs": [],
   "source": [
    "def tableOfTwelve():\n",
    "     for m in range(1,11,1):\n",
    "            print(\"12 X\", m,\"=\", m*12)"
   ]
  },
  {
   "cell_type": "code",
   "execution_count": 18,
   "id": "b33d1b80",
   "metadata": {},
   "outputs": [
    {
     "name": "stdout",
     "output_type": "stream",
     "text": [
      "12 X 1 = 12\n",
      "12 X 2 = 24\n",
      "12 X 3 = 36\n",
      "12 X 4 = 48\n",
      "12 X 5 = 60\n",
      "12 X 6 = 72\n",
      "12 X 7 = 84\n",
      "12 X 8 = 96\n",
      "12 X 9 = 108\n",
      "12 X 10 = 120\n"
     ]
    }
   ],
   "source": [
    "tableOfTwelve()"
   ]
  },
  {
   "cell_type": "code",
   "execution_count": 20,
   "id": "31469e0a",
   "metadata": {},
   "outputs": [
    {
     "name": "stdout",
     "output_type": "stream",
     "text": [
      "17 X 1 = 17\n",
      "17 X 2 = 34\n",
      "17 X 3 = 51\n",
      "17 X 4 = 68\n",
      "17 X 5 = 85\n",
      "17 X 6 = 102\n",
      "17 X 7 = 119\n",
      "17 X 8 = 136\n",
      "17 X 9 = 153\n",
      "17 X 10 = 170\n"
     ]
    }
   ],
   "source": [
    "for t in range(1,11,1):\n",
    "    print(\"17 X\", t,\"=\",t*17)"
   ]
  },
  {
   "cell_type": "code",
   "execution_count": 22,
   "id": "c70d58d1",
   "metadata": {},
   "outputs": [
    {
     "name": "stdout",
     "output_type": "stream",
     "text": [
      "enter your number      56\n"
     ]
    }
   ],
   "source": [
    "a=int(input(\"enter your number      \"))\n"
   ]
  },
  {
   "cell_type": "code",
   "execution_count": null,
   "id": "21f36fd2",
   "metadata": {},
   "outputs": [],
   "source": []
  }
 ],
 "metadata": {
  "kernelspec": {
   "display_name": "Python 3 (ipykernel)",
   "language": "python",
   "name": "python3"
  },
  "language_info": {
   "codemirror_mode": {
    "name": "ipython",
    "version": 3
   },
   "file_extension": ".py",
   "mimetype": "text/x-python",
   "name": "python",
   "nbconvert_exporter": "python",
   "pygments_lexer": "ipython3",
   "version": "3.11.5"
  }
 },
 "nbformat": 4,
 "nbformat_minor": 5
}
