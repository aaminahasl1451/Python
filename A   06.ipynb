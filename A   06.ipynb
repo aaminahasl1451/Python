{
 "cells": [
  {
   "cell_type": "markdown",
   "id": "e35a5be4",
   "metadata": {},
   "source": [
    "# lists in python"
   ]
  },
  {
   "cell_type": "code",
   "execution_count": 1,
   "id": "ebc3edd2",
   "metadata": {},
   "outputs": [],
   "source": [
    "empty_list = []"
   ]
  },
  {
   "cell_type": "code",
   "execution_count": 2,
   "id": "78166faa",
   "metadata": {},
   "outputs": [
    {
     "data": {
      "text/plain": [
       "list"
      ]
     },
     "execution_count": 2,
     "metadata": {},
     "output_type": "execute_result"
    }
   ],
   "source": [
    "type(empty_list)"
   ]
  },
  {
   "cell_type": "code",
   "execution_count": 3,
   "id": "feeb0780",
   "metadata": {},
   "outputs": [
    {
     "data": {
      "text/plain": [
       "int"
      ]
     },
     "execution_count": 3,
     "metadata": {},
     "output_type": "execute_result"
    }
   ],
   "source": [
    "a = 14\n",
    "type(a)"
   ]
  },
  {
   "cell_type": "code",
   "execution_count": 4,
   "id": "4af1de92",
   "metadata": {},
   "outputs": [],
   "source": [
    "baby_list = [2,5,9,122,55]"
   ]
  },
  {
   "cell_type": "code",
   "execution_count": 7,
   "id": "09935b4e",
   "metadata": {},
   "outputs": [
    {
     "name": "stdout",
     "output_type": "stream",
     "text": [
      "[2, 5, 9, 122, 55]\n"
     ]
    }
   ],
   "source": [
    "print(baby_list)"
   ]
  },
  {
   "cell_type": "code",
   "execution_count": 9,
   "id": "f3211025",
   "metadata": {},
   "outputs": [],
   "source": [
    "cocomelon_list = [20,79.6,45,\"Aaminah\",True]"
   ]
  },
  {
   "cell_type": "code",
   "execution_count": 10,
   "id": "ada7596d",
   "metadata": {},
   "outputs": [
    {
     "name": "stdout",
     "output_type": "stream",
     "text": [
      "[20, 79.6, 45, 'Aaminah', True]\n"
     ]
    }
   ],
   "source": [
    "print(cocomelon_list)"
   ]
  },
  {
   "cell_type": "code",
   "execution_count": 11,
   "id": "a4c3581b",
   "metadata": {},
   "outputs": [
    {
     "name": "stdout",
     "output_type": "stream",
     "text": [
      "Aaminah\n"
     ]
    }
   ],
   "source": [
    "print(cocomelon_list[3])"
   ]
  },
  {
   "cell_type": "code",
   "execution_count": 12,
   "id": "ec392c3f",
   "metadata": {},
   "outputs": [
    {
     "name": "stdout",
     "output_type": "stream",
     "text": [
      "True\n"
     ]
    }
   ],
   "source": [
    "print(cocomelon_list[4])"
   ]
  },
  {
   "cell_type": "code",
   "execution_count": 13,
   "id": "d506410f",
   "metadata": {},
   "outputs": [
    {
     "name": "stdout",
     "output_type": "stream",
     "text": [
      "20\n"
     ]
    }
   ],
   "source": [
    "print(cocomelon_list[0])"
   ]
  },
  {
   "cell_type": "code",
   "execution_count": 14,
   "id": "d5f82ba1",
   "metadata": {},
   "outputs": [],
   "source": [
    "zahra_list = [7,28,10,544,\"zah+aam\",False,True]"
   ]
  },
  {
   "cell_type": "code",
   "execution_count": 15,
   "id": "77974723",
   "metadata": {},
   "outputs": [
    {
     "name": "stdout",
     "output_type": "stream",
     "text": [
      "[7, 28, 10, 544, 'zah+aam', False, True]\n"
     ]
    }
   ],
   "source": [
    "print(zahra_list)"
   ]
  },
  {
   "cell_type": "code",
   "execution_count": 16,
   "id": "fa8b9501",
   "metadata": {},
   "outputs": [],
   "source": [
    "my_list = [0, 1, 2, 3, 4, 5]"
   ]
  },
  {
   "cell_type": "markdown",
   "id": "8f5a8373",
   "metadata": {},
   "source": [
    "# Slicing"
   ]
  },
  {
   "cell_type": "code",
   "execution_count": 17,
   "id": "f0ee5384",
   "metadata": {},
   "outputs": [
    {
     "name": "stdout",
     "output_type": "stream",
     "text": [
      "[2, 3, 4]\n"
     ]
    }
   ],
   "source": [
    "print(my_list[2:5])  # Outputs: [2, 3, 4]"
   ]
  },
  {
   "cell_type": "code",
   "execution_count": 18,
   "id": "a0336f48",
   "metadata": {},
   "outputs": [],
   "source": [
    "new_list = my_list[2:5]"
   ]
  },
  {
   "cell_type": "code",
   "execution_count": 19,
   "id": "33df15ae",
   "metadata": {},
   "outputs": [
    {
     "data": {
      "text/plain": [
       "[2, 3, 4]"
      ]
     },
     "execution_count": 19,
     "metadata": {},
     "output_type": "execute_result"
    }
   ],
   "source": [
    "new_list"
   ]
  },
  {
   "cell_type": "code",
   "execution_count": null,
   "id": "b2423f29",
   "metadata": {},
   "outputs": [],
   "source": []
  }
 ],
 "metadata": {
  "kernelspec": {
   "display_name": "Python 3 (ipykernel)",
   "language": "python",
   "name": "python3"
  },
  "language_info": {
   "codemirror_mode": {
    "name": "ipython",
    "version": 3
   },
   "file_extension": ".py",
   "mimetype": "text/x-python",
   "name": "python",
   "nbconvert_exporter": "python",
   "pygments_lexer": "ipython3",
   "version": "3.11.5"
  }
 },
 "nbformat": 4,
 "nbformat_minor": 5
}
