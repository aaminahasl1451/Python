{
 "cells": [
  {
   "cell_type": "markdown",
   "id": "b5facb6f",
   "metadata": {},
   "source": [
    "# independent test"
   ]
  },
  {
   "cell_type": "code",
   "execution_count": 5,
   "id": "34049137",
   "metadata": {},
   "outputs": [],
   "source": [
    "baby1 =(\"zahra4/5/32\",\"aaminah1/4/21\",\"zainab23/4/20\")"
   ]
  },
  {
   "cell_type": "code",
   "execution_count": 6,
   "id": "f6aca910",
   "metadata": {},
   "outputs": [
    {
     "name": "stdout",
     "output_type": "stream",
     "text": [
      "('zahra4/5/32', 'aaminah1/4/21', 'zainab23/4/20')\n"
     ]
    }
   ],
   "source": [
    "print(baby1)"
   ]
  },
  {
   "cell_type": "code",
   "execution_count": 7,
   "id": "82ad0f89",
   "metadata": {},
   "outputs": [
    {
     "data": {
      "text/plain": [
       "'zainab23/4/20'"
      ]
     },
     "execution_count": 7,
     "metadata": {},
     "output_type": "execute_result"
    }
   ],
   "source": [
    "baby1[2]"
   ]
  },
  {
   "cell_type": "code",
   "execution_count": 8,
   "id": "78277172",
   "metadata": {},
   "outputs": [
    {
     "data": {
      "text/plain": [
       "tuple"
      ]
     },
     "execution_count": 8,
     "metadata": {},
     "output_type": "execute_result"
    }
   ],
   "source": [
    "type(baby1)"
   ]
  },
  {
   "cell_type": "code",
   "execution_count": 9,
   "id": "2fd28c70",
   "metadata": {},
   "outputs": [
    {
     "name": "stdout",
     "output_type": "stream",
     "text": [
      "Enter Your Age: \n"
     ]
    },
    {
     "ename": "ValueError",
     "evalue": "invalid literal for int() with base 10: ''",
     "output_type": "error",
     "traceback": [
      "\u001b[1;31m---------------------------------------------------------------------------\u001b[0m",
      "\u001b[1;31mValueError\u001b[0m                                Traceback (most recent call last)",
      "Cell \u001b[1;32mIn[9], line 1\u001b[0m\n\u001b[1;32m----> 1\u001b[0m h \u001b[38;5;241m=\u001b[39m \u001b[38;5;28mint\u001b[39m(\u001b[38;5;28minput\u001b[39m(\u001b[38;5;124m\"\u001b[39m\u001b[38;5;124mEnter Your Age: \u001b[39m\u001b[38;5;124m\"\u001b[39m))\n\u001b[0;32m      2\u001b[0m \u001b[38;5;28;01mif\u001b[39;00m h\u001b[38;5;241m<\u001b[39m\u001b[38;5;241m18\u001b[39m:\n\u001b[0;32m      3\u001b[0m         \u001b[38;5;28mprint\u001b[39m(\u001b[38;5;124m\"\u001b[39m\u001b[38;5;124mYou are a Child\u001b[39m\u001b[38;5;124m\"\u001b[39m)\n",
      "\u001b[1;31mValueError\u001b[0m: invalid literal for int() with base 10: ''"
     ]
    }
   ],
   "source": [
    "h = int(input(\"Enter Your Age: \"))\n",
    "if h<18:\n",
    "        print(\"You are a Child\")\n",
    "else :\n",
    "        print(\"your are not a child\")"
   ]
  },
  {
   "cell_type": "code",
   "execution_count": null,
   "id": "0a3eec05",
   "metadata": {},
   "outputs": [],
   "source": [
    "y = int(input(\"enter the year you where born in : \"))\n",
    "if y>2001: \n",
    "    print(\"your not old enough\")\n",
    "    \n",
    "else :  \n",
    "    print(\"your old enough\")"
   ]
  },
  {
   "cell_type": "code",
   "execution_count": null,
   "id": "2e2e30b9",
   "metadata": {},
   "outputs": [],
   "source": [
    "cocomelon_list = [2,3,5,7,10,92.14,\"zahra\",True]"
   ]
  },
  {
   "cell_type": "code",
   "execution_count": null,
   "id": "7bb9ed9c",
   "metadata": {},
   "outputs": [],
   "source": [
    "cocomelon_list[4]"
   ]
  },
  {
   "cell_type": "code",
   "execution_count": null,
   "id": "af544f94",
   "metadata": {},
   "outputs": [],
   "source": [
    "cocomelon_list[5]"
   ]
  },
  {
   "cell_type": "code",
   "execution_count": null,
   "id": "3a5b697e",
   "metadata": {},
   "outputs": [],
   "source": [
    "cocomelon_list"
   ]
  },
  {
   "cell_type": "code",
   "execution_count": null,
   "id": "7fb1fdc8",
   "metadata": {},
   "outputs": [],
   "source": [
    "cocomelon_list.append(14)"
   ]
  },
  {
   "cell_type": "code",
   "execution_count": null,
   "id": "522f68dc",
   "metadata": {},
   "outputs": [],
   "source": [
    "cocomelon_list"
   ]
  },
  {
   "cell_type": "code",
   "execution_count": null,
   "id": "a668ae6d",
   "metadata": {},
   "outputs": [],
   "source": [
    "validImput=False\n",
    "while not validImput:\n",
    "    userAge=input(\"enter ur age            \")\n",
    "    if userAge.isdigit() and int(userAge) >=18:\n",
    "        print(\"Valid Age Entered!\")\n",
    "    else:\n",
    "        print(\"please enter valid age (Must be 18 or older)\")"
   ]
  },
  {
   "cell_type": "code",
   "execution_count": null,
   "id": "8194f447",
   "metadata": {},
   "outputs": [],
   "source": [
    "a = input(\"enter a number  \")"
   ]
  },
  {
   "cell_type": "code",
   "execution_count": null,
   "id": "b4228d7e",
   "metadata": {},
   "outputs": [],
   "source": [
    "type(a)"
   ]
  },
  {
   "cell_type": "code",
   "execution_count": null,
   "id": "77cfd7c3",
   "metadata": {},
   "outputs": [],
   "source": [
    "a = 7"
   ]
  },
  {
   "cell_type": "code",
   "execution_count": null,
   "id": "8d371930",
   "metadata": {},
   "outputs": [],
   "source": [
    "type(a)"
   ]
  },
  {
   "cell_type": "code",
   "execution_count": 1,
   "id": "e5268602",
   "metadata": {},
   "outputs": [
    {
     "name": "stdout",
     "output_type": "stream",
     "text": [
      "Menu:\n",
      "1. Option 1\n",
      "2. Option 2\n",
      "3. Option 3\n",
      "Enter your choice (1-3): 2\n",
      "You selected option 2.\n"
     ]
    }
   ],
   "source": [
    "choice = None\n",
    "while choice not in ('1', '2', '3'):\n",
    "    print(\"Menu:\")\n",
    "    print(\"1. Option 1\")\n",
    "    print(\"2. Option 2\")\n",
    "    print(\"3. Option 3\")\n",
    "    choice = input(\"Enter your choice (1-3): \")\n",
    "    if choice not in ('1', '2', '3'):\n",
    "        print(\"Invalid choice. Please select a valid option.\")\n",
    "    else:\n",
    "        print(f\"You selected option {choice}.\")"
   ]
  },
  {
   "cell_type": "code",
   "execution_count": 2,
   "id": "fe746cfd",
   "metadata": {},
   "outputs": [
    {
     "name": "stdout",
     "output_type": "stream",
     "text": [
      "5\n",
      "4\n",
      "3\n",
      "2\n",
      "1\n",
      "blastOff!\n"
     ]
    }
   ],
   "source": [
    "countdown = 5\n",
    "while countdown > 0:\n",
    "    print(countdown)\n",
    "    countdown -= 1\n",
    "print(\"blastOff!\")"
   ]
  },
  {
   "cell_type": "code",
   "execution_count": 3,
   "id": "b653c240",
   "metadata": {},
   "outputs": [
    {
     "name": "stdout",
     "output_type": "stream",
     "text": [
      "Set a password aa\n",
      "Enter the password: s\n",
      "Wrong password! 2 attempts remaining.\n",
      "Enter the password: d\n",
      "Wrong password! 1 attempts remaining.\n",
      "Enter the password: a\n",
      "Too many attempts. Access denied.\n"
     ]
    }
   ],
   "source": [
    "password = input(\"Set a password \")\n",
    "attempts = 3\n",
    "while attempts > 0:\n",
    "    user_input = input(\"Enter the password: \")\n",
    "    if user_input == password:\n",
    "        print(\"Access granted!\")\n",
    "        break  # Exit the loop if the password is correct\n",
    "    else:\n",
    "        attempts -= 1\n",
    "        if attempts > 0:\n",
    "            print(f\"Wrong password! {attempts} attempts remaining.\")\n",
    "        else:\n",
    "            print(\"Too many attempts. Access denied.\")"
   ]
  },
  {
   "cell_type": "code",
   "execution_count": 4,
   "id": "678bfa4c",
   "metadata": {},
   "outputs": [
    {
     "data": {
      "text/plain": [
       "0.42592592592592593"
      ]
     },
     "execution_count": 4,
     "metadata": {},
     "output_type": "execute_result"
    }
   ],
   "source": [
    "a = 23\n",
    "n =54\n",
    "h=89\n",
    "d=88\n",
    "k=45\n",
    "a/n"
   ]
  },
  {
   "cell_type": "code",
   "execution_count": 5,
   "id": "c079047e",
   "metadata": {},
   "outputs": [
    {
     "data": {
      "text/plain": [
       "1"
      ]
     },
     "execution_count": 5,
     "metadata": {},
     "output_type": "execute_result"
    }
   ],
   "source": [
    "h-d"
   ]
  },
  {
   "cell_type": "code",
   "execution_count": 6,
   "id": "c58d7070",
   "metadata": {},
   "outputs": [],
   "source": [
    "def zahra():\n",
    "    print(\"zahra's information:\")\n",
    "    print(\"born_21st January 2006\")\n",
    "    print(\"9 siblings\")\n",
    "    print(\"loves cocomelon JJ doll\")\n",
    "    print(\"scared of BasketBalls\")\n",
    "    print(\"fav cartoon rachal+cocomelon\")\n",
    "    print(\"she is 16 years old\")\n",
    "    print(\"she has a bfffff called zara\")"
   ]
  },
  {
   "cell_type": "code",
   "execution_count": 7,
   "id": "9b70a3b7",
   "metadata": {},
   "outputs": [
    {
     "name": "stdout",
     "output_type": "stream",
     "text": [
      "zahra's information:\n",
      "born_21st January 2006\n",
      "9 siblings\n",
      "loves cocomelon JJ doll\n",
      "scared of BasketBalls\n",
      "fav cartoon rachal+cocomelon\n",
      "she is 16 years old\n",
      "she has a bfffff called zara\n"
     ]
    }
   ],
   "source": [
    "zahra()"
   ]
  },
  {
   "cell_type": "code",
   "execution_count": 8,
   "id": "9488c322",
   "metadata": {},
   "outputs": [
    {
     "name": "stdout",
     "output_type": "stream",
     "text": [
      "22 X 1 = 22\n",
      "22 X 2 = 44\n",
      "22 X 3 = 66\n",
      "22 X 4 = 88\n",
      "22 X 5 = 110\n",
      "22 X 6 = 132\n",
      "22 X 7 = 154\n",
      "22 X 8 = 176\n",
      "22 X 9 = 198\n",
      "22 X 10 = 220\n"
     ]
    }
   ],
   "source": [
    "for l in range(1,11,1):\n",
    "    print(\"22 X\",l,\"=\",l*22)"
   ]
  },
  {
   "cell_type": "code",
   "execution_count": 13,
   "id": "66591678",
   "metadata": {},
   "outputs": [],
   "source": [
    "def tableOfTwelve():\n",
    "     for o in range(1,11,1):\n",
    "            print(\"12 X\", o,\"=\", o*12)"
   ]
  },
  {
   "cell_type": "code",
   "execution_count": 14,
   "id": "27d18f99",
   "metadata": {},
   "outputs": [
    {
     "name": "stdout",
     "output_type": "stream",
     "text": [
      "12 X 1 = 12\n",
      "12 X 2 = 24\n",
      "12 X 3 = 36\n",
      "12 X 4 = 48\n",
      "12 X 5 = 60\n",
      "12 X 6 = 72\n",
      "12 X 7 = 84\n",
      "12 X 8 = 96\n",
      "12 X 9 = 108\n",
      "12 X 10 = 120\n"
     ]
    }
   ],
   "source": [
    "tableOfTwelve()"
   ]
  },
  {
   "cell_type": "code",
   "execution_count": 15,
   "id": "3aa79c8a",
   "metadata": {},
   "outputs": [
    {
     "name": "stdout",
     "output_type": "stream",
     "text": [
      "17 X 1 = 17\n",
      "17 X 2 = 34\n",
      "17 X 3 = 51\n",
      "17 X 4 = 68\n",
      "17 X 5 = 85\n",
      "17 X 6 = 102\n",
      "17 X 7 = 119\n",
      "17 X 8 = 136\n",
      "17 X 9 = 153\n",
      "17 X 10 = 170\n"
     ]
    }
   ],
   "source": [
    "for t in range(1,11,1):\n",
    "    print(\"17 X\", t,\"=\",t*17)"
   ]
  },
  {
   "cell_type": "code",
   "execution_count": 17,
   "id": "87dab327",
   "metadata": {},
   "outputs": [],
   "source": [
    "def faizu (f,a,i,z,u):\n",
    "    return f+a/i*z-u"
   ]
  },
  {
   "cell_type": "code",
   "execution_count": 18,
   "id": "e2a3922e",
   "metadata": {},
   "outputs": [
    {
     "data": {
      "text/plain": [
       "135.0"
      ]
     },
     "execution_count": 18,
     "metadata": {},
     "output_type": "execute_result"
    }
   ],
   "source": [
    "faizu(50,50,2,4,15)"
   ]
  },
  {
   "cell_type": "code",
   "execution_count": 26,
   "id": "ebbe90f8",
   "metadata": {},
   "outputs": [],
   "source": [
    "mimi = {\"my\":\"z4hr4\",\"my2\":\"A4min4h\", \"my3\":\"z4in4b\",\"my4\":\"du4\",\"my5\":\"m4h4\",\"my6\":\"s3h4r\",\"my7\":\"0m4r\"}"
   ]
  },
  {
   "cell_type": "code",
   "execution_count": 28,
   "id": "d4407ca3",
   "metadata": {},
   "outputs": [
    {
     "data": {
      "text/plain": [
       "7"
      ]
     },
     "execution_count": 28,
     "metadata": {},
     "output_type": "execute_result"
    }
   ],
   "source": [
    "len(mimi)"
   ]
  },
  {
   "cell_type": "code",
   "execution_count": 29,
   "id": "63bba086",
   "metadata": {},
   "outputs": [
    {
     "data": {
      "text/plain": [
       "'du4'"
      ]
     },
     "execution_count": 29,
     "metadata": {},
     "output_type": "execute_result"
    }
   ],
   "source": [
    "mimi[\"my4\"]"
   ]
  },
  {
   "cell_type": "code",
   "execution_count": 30,
   "id": "f3e8833f",
   "metadata": {},
   "outputs": [
    {
     "data": {
      "text/plain": [
       "{'my': 'z4hr4',\n",
       " 'my2': 'A4min4h',\n",
       " 'my3': 'z4in4b',\n",
       " 'my4': 'du4',\n",
       " 'my5': 'm4h4',\n",
       " 'my6': 's3h4r',\n",
       " 'my7': '0m4r'}"
      ]
     },
     "execution_count": 30,
     "metadata": {},
     "output_type": "execute_result"
    }
   ],
   "source": [
    "mimi"
   ]
  },
  {
   "cell_type": "code",
   "execution_count": 38,
   "id": "6f2f75c1",
   "metadata": {},
   "outputs": [],
   "source": [
    "mimi[\"my\"]=\"zahra\""
   ]
  },
  {
   "cell_type": "code",
   "execution_count": 32,
   "id": "e031e4ae",
   "metadata": {},
   "outputs": [],
   "source": [
    "mimi[\"my2\"]=\"aaminah\""
   ]
  },
  {
   "cell_type": "code",
   "execution_count": 39,
   "id": "ef1e0adc",
   "metadata": {},
   "outputs": [],
   "source": [
    "mimi[\"my3\"]=\"zainab\""
   ]
  },
  {
   "cell_type": "code",
   "execution_count": 40,
   "id": "43335c9e",
   "metadata": {},
   "outputs": [],
   "source": [
    "mimi[\"my4\"]=\"dua\""
   ]
  },
  {
   "cell_type": "code",
   "execution_count": 41,
   "id": "a837fc0e",
   "metadata": {},
   "outputs": [],
   "source": [
    "mimi[\"my5\"]=\"maha\""
   ]
  },
  {
   "cell_type": "code",
   "execution_count": 42,
   "id": "c5e7f412",
   "metadata": {},
   "outputs": [],
   "source": [
    "mimi[\"my6\"]=\"sehar\""
   ]
  },
  {
   "cell_type": "code",
   "execution_count": 43,
   "id": "c42361f1",
   "metadata": {},
   "outputs": [],
   "source": [
    "mimi[\"my7\"]=\"omar\""
   ]
  },
  {
   "cell_type": "code",
   "execution_count": 44,
   "id": "367af29b",
   "metadata": {},
   "outputs": [
    {
     "data": {
      "text/plain": [
       "{'my': 'zahra',\n",
       " 'my2': 'aaminah',\n",
       " 'my3': 'zainab',\n",
       " 'my4': 'dua',\n",
       " 'my5': 'maha',\n",
       " 'my6': 'sehar',\n",
       " 'my7': 'omar'}"
      ]
     },
     "execution_count": 44,
     "metadata": {},
     "output_type": "execute_result"
    }
   ],
   "source": [
    "mimi"
   ]
  },
  {
   "cell_type": "code",
   "execution_count": null,
   "id": "14b85bc6",
   "metadata": {},
   "outputs": [],
   "source": []
  }
 ],
 "metadata": {
  "kernelspec": {
   "display_name": "Python 3 (ipykernel)",
   "language": "python",
   "name": "python3"
  },
  "language_info": {
   "codemirror_mode": {
    "name": "ipython",
    "version": 3
   },
   "file_extension": ".py",
   "mimetype": "text/x-python",
   "name": "python",
   "nbconvert_exporter": "python",
   "pygments_lexer": "ipython3",
   "version": "3.11.5"
  }
 },
 "nbformat": 4,
 "nbformat_minor": 5
}
