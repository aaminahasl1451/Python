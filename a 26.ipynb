{
 "cells": [
  {
   "cell_type": "code",
   "execution_count": 1,
   "id": "0e172e78",
   "metadata": {},
   "outputs": [],
   "source": [
    "def tableOfTwelve():\n",
    "     for m in range(1,11,1):\n",
    "            print(\"12 X\", m,\"=\", m*12)\n",
    "        "
   ]
  },
  {
   "cell_type": "code",
   "execution_count": 5,
   "id": "04123244",
   "metadata": {},
   "outputs": [
    {
     "name": "stdout",
     "output_type": "stream",
     "text": [
      "12 X 1 = 12\n",
      "12 X 2 = 24\n",
      "12 X 3 = 36\n",
      "12 X 4 = 48\n",
      "12 X 5 = 60\n",
      "12 X 6 = 72\n",
      "12 X 7 = 84\n",
      "12 X 8 = 96\n",
      "12 X 9 = 108\n",
      "12 X 10 = 120\n"
     ]
    }
   ],
   "source": [
    "tableOfTwelve()"
   ]
  },
  {
   "cell_type": "code",
   "execution_count": 9,
   "id": "21f329ce",
   "metadata": {},
   "outputs": [],
   "source": [
    "def zara():\n",
    "    for z in range(1,21,1):\n",
    "        print(\"20 X\", z, \"=\",z*20)"
   ]
  },
  {
   "cell_type": "code",
   "execution_count": 10,
   "id": "fbee47ad",
   "metadata": {},
   "outputs": [
    {
     "name": "stdout",
     "output_type": "stream",
     "text": [
      "20 X 1 = 20\n",
      "20 X 2 = 40\n",
      "20 X 3 = 60\n",
      "20 X 4 = 80\n",
      "20 X 5 = 100\n",
      "20 X 6 = 120\n",
      "20 X 7 = 140\n",
      "20 X 8 = 160\n",
      "20 X 9 = 180\n",
      "20 X 10 = 200\n",
      "20 X 11 = 220\n",
      "20 X 12 = 240\n",
      "20 X 13 = 260\n",
      "20 X 14 = 280\n",
      "20 X 15 = 300\n",
      "20 X 16 = 320\n",
      "20 X 17 = 340\n",
      "20 X 18 = 360\n",
      "20 X 19 = 380\n",
      "20 X 20 = 400\n"
     ]
    }
   ],
   "source": [
    "zara()"
   ]
  },
  {
   "cell_type": "code",
   "execution_count": 14,
   "id": "3713ca19",
   "metadata": {},
   "outputs": [],
   "source": [
    "# Define a Function\n",
    "def ty():\n",
    "    age=int(input(\"Enter Your Age :  \"))\n",
    "    if age == 24:\n",
    "        print(\"This one must be Bilal\")\n",
    "    elif age == 15:\n",
    "        print(\"This One Must be fatimah\")\n",
    "    else:\n",
    "        print(\"Idk about you\")\n",
    "              "
   ]
  },
  {
   "cell_type": "code",
   "execution_count": 15,
   "id": "6bb75b92",
   "metadata": {},
   "outputs": [
    {
     "name": "stdout",
     "output_type": "stream",
     "text": [
      "Enter Your Age :  45\n",
      "Idk about you\n"
     ]
    }
   ],
   "source": [
    "ty()"
   ]
  },
  {
   "cell_type": "code",
   "execution_count": 17,
   "id": "cc3ce0f5",
   "metadata": {},
   "outputs": [
    {
     "name": "stdout",
     "output_type": "stream",
     "text": [
      "Enter Your Age :  15\n",
      "This One Must be fatimah\n"
     ]
    }
   ],
   "source": [
    "ty()\n"
   ]
  },
  {
   "cell_type": "code",
   "execution_count": 18,
   "id": "54cd89f6",
   "metadata": {},
   "outputs": [
    {
     "name": "stdout",
     "output_type": "stream",
     "text": [
      "Enter Your Age :  1\n",
      "Idk about you\n"
     ]
    }
   ],
   "source": [
    "ty()"
   ]
  },
  {
   "cell_type": "code",
   "execution_count": 19,
   "id": "aed5da77",
   "metadata": {},
   "outputs": [],
   "source": [
    "# Define a Function\n",
    "def tyvm():\n",
    "    age=int(input(\"Enter Your Age :  \"))\n",
    "    if age == 26:\n",
    "        print(\"This one must be Bilal\")\n",
    "    elif age == 11:\n",
    "        print(\"This One Must be fatimah\")\n",
    "    else:\n",
    "        print(\"Idk about yall\")\n",
    "              "
   ]
  },
  {
   "cell_type": "code",
   "execution_count": 20,
   "id": "e5f6868e",
   "metadata": {},
   "outputs": [
    {
     "name": "stdout",
     "output_type": "stream",
     "text": [
      "Enter Your Age :  13\n",
      "Idk about yall\n"
     ]
    }
   ],
   "source": [
    "tyvm()"
   ]
  },
  {
   "cell_type": "code",
   "execution_count": 21,
   "id": "e7194ca8",
   "metadata": {},
   "outputs": [],
   "source": [
    "def listFun():\n",
    "    fruits=[\"bananna\",\"strawberry\",\"apple\",\"kiwi\",\"watermelon\",\"grapes\",\"melon\",\"guava\"]\n",
    "    for z in fruits:\n",
    "        print(z)"
   ]
  },
  {
   "cell_type": "code",
   "execution_count": null,
   "id": "e33bbcf1",
   "metadata": {},
   "outputs": [],
   "source": []
  },
  {
   "cell_type": "code",
   "execution_count": 22,
   "id": "7d216c23",
   "metadata": {},
   "outputs": [
    {
     "name": "stdout",
     "output_type": "stream",
     "text": [
      "bananna\n",
      "strawberry\n",
      "apple\n",
      "kiwi\n",
      "watermelon\n",
      "grapes\n",
      "melon\n",
      "guava\n"
     ]
    }
   ],
   "source": [
    "listFun()"
   ]
  },
  {
   "cell_type": "code",
   "execution_count": null,
   "id": "817faf7a",
   "metadata": {},
   "outputs": [],
   "source": []
  }
 ],
 "metadata": {
  "kernelspec": {
   "display_name": "Python 3 (ipykernel)",
   "language": "python",
   "name": "python3"
  },
  "language_info": {
   "codemirror_mode": {
    "name": "ipython",
    "version": 3
   },
   "file_extension": ".py",
   "mimetype": "text/x-python",
   "name": "python",
   "nbconvert_exporter": "python",
   "pygments_lexer": "ipython3",
   "version": "3.11.5"
  }
 },
 "nbformat": 4,
 "nbformat_minor": 5
}
