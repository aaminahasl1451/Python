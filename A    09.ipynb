{
 "cells": [
  {
   "cell_type": "markdown",
   "id": "e9e1baec",
   "metadata": {},
   "source": [
    "# 1. What is a list in Python?"
   ]
  },
  {
   "cell_type": "markdown",
   "id": "b86aab5c",
   "metadata": {},
   "source": [
    "# A list is a collection of items that can hold different data types, such as numbers, strings, or even other lists. It is created using square brackets [] and items separated by commas."
   ]
  },
  {
   "cell_type": "raw",
   "id": "ccdda0b5",
   "metadata": {},
   "source": [
    "random_list = [2,3,5,7,10,92.14,\"zahra\",True]"
   ]
  },
  {
   "cell_type": "code",
   "execution_count": 2,
   "id": "98e4da16",
   "metadata": {},
   "outputs": [],
   "source": [
    "random_list = [2,3,5,7,10,92.14,\"zahra\",True]"
   ]
  },
  {
   "cell_type": "code",
   "execution_count": 3,
   "id": "8c03faf9",
   "metadata": {},
   "outputs": [
    {
     "data": {
      "text/plain": [
       "10"
      ]
     },
     "execution_count": 3,
     "metadata": {},
     "output_type": "execute_result"
    }
   ],
   "source": [
    "random_list[4]"
   ]
  },
  {
   "cell_type": "code",
   "execution_count": 4,
   "id": "7a314174",
   "metadata": {},
   "outputs": [
    {
     "data": {
      "text/plain": [
       "92.14"
      ]
     },
     "execution_count": 4,
     "metadata": {},
     "output_type": "execute_result"
    }
   ],
   "source": [
    "random_list[5]"
   ]
  },
  {
   "cell_type": "code",
   "execution_count": 5,
   "id": "1b41f46b",
   "metadata": {},
   "outputs": [
    {
     "data": {
      "text/plain": [
       "[2, 3, 5, 7, 10, 92.14, 'zahra', True]"
      ]
     },
     "execution_count": 5,
     "metadata": {},
     "output_type": "execute_result"
    }
   ],
   "source": [
    "random_list"
   ]
  },
  {
   "cell_type": "markdown",
   "id": "289ca3ea",
   "metadata": {},
   "source": [
    "# How to add elements to a list?"
   ]
  },
  {
   "cell_type": "code",
   "execution_count": 6,
   "id": "5791594b",
   "metadata": {},
   "outputs": [],
   "source": [
    "random_list.append(14)"
   ]
  },
  {
   "cell_type": "code",
   "execution_count": 7,
   "id": "d951e59f",
   "metadata": {},
   "outputs": [
    {
     "data": {
      "text/plain": [
       "[2, 3, 5, 7, 10, 92.14, 'zahra', True, 14]"
      ]
     },
     "execution_count": 7,
     "metadata": {},
     "output_type": "execute_result"
    }
   ],
   "source": [
    "random_list"
   ]
  },
  {
   "cell_type": "code",
   "execution_count": null,
   "id": "cc50ae7c",
   "metadata": {},
   "outputs": [],
   "source": []
  }
 ],
 "metadata": {
  "kernelspec": {
   "display_name": "Python 3 (ipykernel)",
   "language": "python",
   "name": "python3"
  },
  "language_info": {
   "codemirror_mode": {
    "name": "ipython",
    "version": 3
   },
   "file_extension": ".py",
   "mimetype": "text/x-python",
   "name": "python",
   "nbconvert_exporter": "python",
   "pygments_lexer": "ipython3",
   "version": "3.11.5"
  }
 },
 "nbformat": 4,
 "nbformat_minor": 5
}
