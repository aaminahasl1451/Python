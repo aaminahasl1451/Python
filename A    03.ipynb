{
 "cells": [
  {
   "cell_type": "markdown",
   "id": "6bd648ba",
   "metadata": {},
   "source": [
    "# Test"
   ]
  },
  {
   "cell_type": "code",
   "execution_count": 1,
   "id": "0aedd272",
   "metadata": {},
   "outputs": [],
   "source": [
    "a=2\n",
    "b=4\n",
    "c=6\n",
    "d=8\n",
    "e=10\n",
    "f=12\n",
    "g=1.4\n",
    "h=\"heyy\""
   ]
  },
  {
   "cell_type": "markdown",
   "id": "2978013b",
   "metadata": {},
   "source": [
    "## a,b,c,d,e,f,g,h"
   ]
  },
  {
   "cell_type": "code",
   "execution_count": 8,
   "id": "39b4b82a",
   "metadata": {},
   "outputs": [
    {
     "name": "stdout",
     "output_type": "stream",
     "text": [
      "what is your Name    Ahk\n",
      "Hello  Ahk\n",
      "what is your hair colour??    dark brown\n"
     ]
    }
   ],
   "source": [
    "name = input(\"what is your Name    \")\n",
    "print(\"Hello \", name)\n",
    "hair = input(\"what is your hair colour??    \")"
   ]
  },
  {
   "cell_type": "code",
   "execution_count": 2,
   "id": "7454ef23",
   "metadata": {},
   "outputs": [
    {
     "name": "stdout",
     "output_type": "stream",
     "text": [
      "what name  zahra\n",
      "hello zahra\n",
      "what is ur mood    happy\n"
     ]
    }
   ],
   "source": [
    "name = input(\"what name  \")\n",
    "print(\"hello\",   name )\n",
    "mood = input (\"what is ur mood    \")"
   ]
  },
  {
   "cell_type": "markdown",
   "id": "3f875f13",
   "metadata": {},
   "source": [
    "# Conditional statement"
   ]
  },
  {
   "cell_type": "code",
   "execution_count": 7,
   "id": "46118af5",
   "metadata": {},
   "outputs": [
    {
     "name": "stdout",
     "output_type": "stream",
     "text": [
      "Enter Your Age:  11\n",
      "You are a Child\n"
     ]
    }
   ],
   "source": [
    "a = int(input(\"Enter Your Age: \"))\n",
    "if a<18:\n",
    "        print(\"You are a Child\")\n",
    "else :\n",
    "        print(\"your are not a child\")"
   ]
  },
  {
   "cell_type": "code",
   "execution_count": 9,
   "id": "1cb54d36",
   "metadata": {},
   "outputs": [
    {
     "name": "stdout",
     "output_type": "stream",
     "text": [
      "enter the year you where born in : 2012\n",
      "your not old enough\n"
     ]
    }
   ],
   "source": [
    "b = int(input(\"enter the year you where born in : \"))\n",
    "if b>2001: \n",
    "    print(\"your not old enough\")\n",
    "    \n",
    "else :  \n",
    "    print(\"your old enough\")"
   ]
  },
  {
   "cell_type": "code",
   "execution_count": 10,
   "id": "449bea53",
   "metadata": {},
   "outputs": [
    {
     "name": "stdout",
     "output_type": "stream",
     "text": [
      "enter your fav number :  3\n",
      "nice numbers  \n"
     ]
    }
   ],
   "source": [
    "c = int(input(\"enter your fav number :  \"))\n",
    "if c<5 :\n",
    "    print(\"nice numbers  \")\n",
    "    \n",
    "else  :\n",
    "    print(\"change the number  \")"
   ]
  },
  {
   "cell_type": "code",
   "execution_count": 12,
   "id": "c13312c7",
   "metadata": {},
   "outputs": [
    {
     "name": "stdout",
     "output_type": "stream",
     "text": [
      "enter your fav number :  774\n",
      "\n"
     ]
    }
   ],
   "source": [
    "c = int(input(\"enter your fav number :  \"))\n",
    "if c < 5 and c > 0:\n",
    "    print(\"\")\n",
    "elif c<10 and 4:\n",
    "    print(\"\")\n",
    "elif c > 10:\n",
    "    print(\"\")\n",
    "else:\n",
    "    print(\"\")"
   ]
  },
  {
   "cell_type": "code",
   "execution_count": null,
   "id": "09cd7914",
   "metadata": {},
   "outputs": [],
   "source": []
  },
  {
   "cell_type": "code",
   "execution_count": null,
   "id": "d3a226bd",
   "metadata": {},
   "outputs": [],
   "source": []
  },
  {
   "cell_type": "code",
   "execution_count": null,
   "id": "8c5f9adc",
   "metadata": {},
   "outputs": [],
   "source": []
  },
  {
   "cell_type": "code",
   "execution_count": null,
   "id": "3c300159",
   "metadata": {},
   "outputs": [],
   "source": []
  },
  {
   "cell_type": "code",
   "execution_count": null,
   "id": "643b65ae",
   "metadata": {},
   "outputs": [],
   "source": []
  },
  {
   "cell_type": "code",
   "execution_count": null,
   "id": "85a02c9c",
   "metadata": {},
   "outputs": [],
   "source": []
  },
  {
   "cell_type": "code",
   "execution_count": null,
   "id": "4ab9d7ea",
   "metadata": {},
   "outputs": [],
   "source": []
  },
  {
   "cell_type": "code",
   "execution_count": null,
   "id": "06684a63",
   "metadata": {},
   "outputs": [],
   "source": []
  },
  {
   "cell_type": "code",
   "execution_count": null,
   "id": "c449ec7b",
   "metadata": {},
   "outputs": [],
   "source": []
  },
  {
   "cell_type": "code",
   "execution_count": null,
   "id": "3eec830b",
   "metadata": {},
   "outputs": [],
   "source": []
  }
 ],
 "metadata": {
  "kernelspec": {
   "display_name": "Python 3 (ipykernel)",
   "language": "python",
   "name": "python3"
  },
  "language_info": {
   "codemirror_mode": {
    "name": "ipython",
    "version": 3
   },
   "file_extension": ".py",
   "mimetype": "text/x-python",
   "name": "python",
   "nbconvert_exporter": "python",
   "pygments_lexer": "ipython3",
   "version": "3.11.5"
  }
 },
 "nbformat": 4,
 "nbformat_minor": 5
}
