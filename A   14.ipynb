{
 "cells": [
  {
   "cell_type": "code",
   "execution_count": 1,
   "id": "3f8183a3",
   "metadata": {},
   "outputs": [
    {
     "data": {
      "text/plain": [
       "0.42592592592592593"
      ]
     },
     "execution_count": 1,
     "metadata": {},
     "output_type": "execute_result"
    }
   ],
   "source": [
    "a = 23\n",
    "n =54\n",
    "a/n"
   ]
  },
  {
   "cell_type": "code",
   "execution_count": 3,
   "id": "588bb5a8",
   "metadata": {},
   "outputs": [
    {
     "name": "stdout",
     "output_type": "stream",
     "text": [
      "1234456790\n"
     ]
    }
   ],
   "source": [
    "user_iput = input(\"\")"
   ]
  },
  {
   "cell_type": "code",
   "execution_count": 4,
   "id": "86fae257",
   "metadata": {},
   "outputs": [
    {
     "data": {
      "text/plain": [
       "23"
      ]
     },
     "execution_count": 4,
     "metadata": {},
     "output_type": "execute_result"
    }
   ],
   "source": [
    "a"
   ]
  },
  {
   "cell_type": "code",
   "execution_count": 5,
   "id": "d86a4aae",
   "metadata": {},
   "outputs": [],
   "source": [
    "a = 24"
   ]
  },
  {
   "cell_type": "code",
   "execution_count": 6,
   "id": "87b01f64",
   "metadata": {},
   "outputs": [
    {
     "data": {
      "text/plain": [
       "24"
      ]
     },
     "execution_count": 6,
     "metadata": {},
     "output_type": "execute_result"
    }
   ],
   "source": [
    "a"
   ]
  },
  {
   "cell_type": "markdown",
   "id": "3589b218",
   "metadata": {},
   "source": [
    "# In Python, variables are dynamically typed, meaning you don't need to explicitly declare the type of a variable. Here's an example that demonstrates different types of variables in Python"
   ]
  },
  {
   "cell_type": "code",
   "execution_count": 8,
   "id": "bec6cc4b",
   "metadata": {},
   "outputs": [
    {
     "name": "stdout",
     "output_type": "stream",
     "text": [
      "Integer: 3.14\n",
      "Float: 10\n",
      "String: Hello, World!\n",
      "Boolean: True\n",
      "List: [1, 2, 3, 4, 5]\n",
      "Tuple: (1, 2, 3, 4, 5)\n",
      "Set: {1, 2, 3, 4, 5}\n",
      "Dictionary: {'key1': 'value1', 'key2': 'value2'}\n",
      "NoneType: None\n"
     ]
    }
   ],
   "source": [
    "# Integer variable\n",
    "integer_var = 10\n",
    "\n",
    "# Float variable\n",
    "float_var = 3.14\n",
    "\n",
    "# String variable\n",
    "string_var = \"Hello, World!\"\n",
    "\n",
    "# Boolean variable\n",
    "boolean_var = True\n",
    "\n",
    "# List variable\n",
    "list_var = [1, 2, 3, 4, 5]\n",
    "\n",
    "# Tuple variable\n",
    "tuple_var = (1, 2, 3, 4, 5)\n",
    "\n",
    "# Set variable\n",
    "set_var = {1, 2, 3, 4, 5}\n",
    "\n",
    "# Dictionary variable\n",
    "dict_var = {'key1': 'value1', 'key2': 'value2'}\n",
    "\n",
    "# NoneType variable\n",
    "none_var = None\n",
    "\n",
    "# Print variables\n",
    "print(\"Integer:\", integer_var)\n",
    "print(\"Float:\", float_var)\n",
    "print(\"String:\", string_var)\n",
    "print(\"Boolean:\", boolean_var)\n",
    "print(\"List:\", list_var)\n",
    "print(\"Tuple:\", tuple_var)\n",
    "print(\"Set:\", set_var)\n",
    "print(\"Dictionary:\", dict_var)\n",
    "print(\"NoneType:\", none_var)\n"
   ]
  },
  {
   "cell_type": "code",
   "execution_count": 13,
   "id": "28b2ed7f",
   "metadata": {},
   "outputs": [],
   "source": [
    "# a = \"Adobe Audition 2024 (v24.0) Multilingual [FileCR]\"\n",
    "# a = 13\n",
    "a =  [1, 2, 3, 4, 5]"
   ]
  },
  {
   "cell_type": "code",
   "execution_count": 14,
   "id": "09e86454",
   "metadata": {},
   "outputs": [
    {
     "data": {
      "text/plain": [
       "list"
      ]
     },
     "execution_count": 14,
     "metadata": {},
     "output_type": "execute_result"
    }
   ],
   "source": [
    "type(a)"
   ]
  },
  {
   "cell_type": "markdown",
   "id": "687b45b6",
   "metadata": {},
   "source": [
    "# False, None, True, and, as, assert, break, class, continue, def, del, elif, else, except, finally, for, from, global, if, import, in, is, lambda, nonlocal, not, or, pass, raise, return, try, while, with, yield\n"
   ]
  },
  {
   "cell_type": "code",
   "execution_count": 17,
   "id": "55faf334",
   "metadata": {},
   "outputs": [
    {
     "name": "stdout",
     "output_type": "stream",
     "text": [
      "1 Zahra\n",
      "2 Zahra\n",
      "3 Zahra\n",
      "4 Zahra\n",
      "5 Zahra\n",
      "6 Zahra\n",
      "7 Zahra\n",
      "8 Zahra\n",
      "9 Zahra\n",
      "10 Zahra\n"
     ]
    }
   ],
   "source": [
    "for zahara28 in range(1,11,1):\n",
    "    print(zahara28,\"Zahra\")"
   ]
  },
  {
   "cell_type": "code",
   "execution_count": null,
   "id": "e1281fc9",
   "metadata": {},
   "outputs": [],
   "source": []
  }
 ],
 "metadata": {
  "kernelspec": {
   "display_name": "Python 3 (ipykernel)",
   "language": "python",
   "name": "python3"
  },
  "language_info": {
   "codemirror_mode": {
    "name": "ipython",
    "version": 3
   },
   "file_extension": ".py",
   "mimetype": "text/x-python",
   "name": "python",
   "nbconvert_exporter": "python",
   "pygments_lexer": "ipython3",
   "version": "3.11.5"
  }
 },
 "nbformat": 4,
 "nbformat_minor": 5
}
