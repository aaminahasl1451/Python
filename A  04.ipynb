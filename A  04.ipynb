{
 "cells": [
  {
   "cell_type": "markdown",
   "id": "069bf37a",
   "metadata": {},
   "source": [
    "# How do you use the print() function to display text?"
   ]
  },
  {
   "cell_type": "code",
   "execution_count": 1,
   "id": "5b8bf94f",
   "metadata": {},
   "outputs": [
    {
     "name": "stdout",
     "output_type": "stream",
     "text": [
      "hello\n"
     ]
    }
   ],
   "source": [
    "print(\"hello\")"
   ]
  },
  {
   "cell_type": "markdown",
   "id": "7a8b6282",
   "metadata": {},
   "source": [
    "# Can you print multiple items on the same line?"
   ]
  },
  {
   "cell_type": "code",
   "execution_count": 3,
   "id": "6356a2c8",
   "metadata": {},
   "outputs": [
    {
     "data": {
      "text/plain": [
       "(2, 77, 33, 4)"
      ]
     },
     "execution_count": 3,
     "metadata": {},
     "output_type": "execute_result"
    }
   ],
   "source": [
    "a = 2\n",
    "b = 77\n",
    "c = 33\n",
    "d = 4\n",
    "a,b,c,d"
   ]
  },
  {
   "cell_type": "code",
   "execution_count": 4,
   "id": "cdc5956b",
   "metadata": {},
   "outputs": [
    {
     "data": {
      "text/plain": [
       "16.5"
      ]
     },
     "execution_count": 4,
     "metadata": {},
     "output_type": "execute_result"
    }
   ],
   "source": [
    "a/b\n",
    "c/d\n",
    "d/b\n",
    "c/a"
   ]
  },
  {
   "cell_type": "markdown",
   "id": "18a6ac86",
   "metadata": {},
   "source": [
    "# How to concatenate strings in the print() function?"
   ]
  },
  {
   "cell_type": "code",
   "execution_count": 5,
   "id": "96ef94bb",
   "metadata": {},
   "outputs": [
    {
     "name": "stdout",
     "output_type": "stream",
     "text": [
      "Hello, Charlie!\n"
     ]
    }
   ],
   "source": [
    "greeting = \"Hello\"\n",
    "name = \"Charlie\"\n",
    "print(greeting + \", \" + name + \"!\")\n"
   ]
  },
  {
   "cell_type": "code",
   "execution_count": 9,
   "id": "60019be5",
   "metadata": {},
   "outputs": [
    {
     "name": "stdout",
     "output_type": "stream",
     "text": [
      "heyy , Amelia:D\n"
     ]
    }
   ],
   "source": [
    "salutation = \"heyy\"\n",
    "appellation = \"Amelia\"\n",
    "print(salutation + \" , \" + appellation + \":D\")"
   ]
  },
  {
   "cell_type": "markdown",
   "id": "bbe36340",
   "metadata": {},
   "source": [
    "# How to use the end parameter in the print() function?"
   ]
  },
  {
   "cell_type": "code",
   "execution_count": 10,
   "id": "27bfc15c",
   "metadata": {},
   "outputs": [
    {
     "name": "stdout",
     "output_type": "stream",
     "text": [
      "Hello World!\n"
     ]
    }
   ],
   "source": [
    "print(\"Hello\", end=\" \")\n",
    "print(\"World!\")"
   ]
  },
  {
   "cell_type": "code",
   "execution_count": 14,
   "id": "4d5b4ed1",
   "metadata": {},
   "outputs": [
    {
     "name": "stdout",
     "output_type": "stream",
     "text": [
      "heyy   universe !!!\n"
     ]
    }
   ],
   "source": [
    "print(\"heyy\", end=\"   \")\n",
    "print(\"universe !!!\")"
   ]
  },
  {
   "cell_type": "markdown",
   "id": "c97b19e8",
   "metadata": {},
   "source": [
    "# How to include variables of different data types in the print() function?"
   ]
  },
  {
   "cell_type": "code",
   "execution_count": 16,
   "id": "6b0bded2",
   "metadata": {},
   "outputs": [
    {
     "name": "stdout",
     "output_type": "stream",
     "text": [
      "22 hi 34567.67\n"
     ]
    }
   ],
   "source": [
    "a = 22\n",
    "b = 33\n",
    "c = 23\n",
    "d = 1220\n",
    "s = 11\n",
    "p = 45\n",
    "r = \"tbh\"\n",
    "t = \"mk\"\n",
    "y = \"bye\"\n",
    "u = \"hi\"\n",
    "o = \"34567.67\"\n",
    "\n",
    "a1 = \"string\"\n",
    "z = 4567.7897878 \n",
    "print (a,u,o)"
   ]
  },
  {
   "cell_type": "markdown",
   "id": "8aef2acc",
   "metadata": {},
   "source": [
    "# How do you assign multiple variables in a single line?"
   ]
  },
  {
   "cell_type": "code",
   "execution_count": 18,
   "id": "ed4bca8b",
   "metadata": {},
   "outputs": [],
   "source": [
    "a,b,c,d,s,p=6 ,3,5,6,5,6"
   ]
  },
  {
   "cell_type": "code",
   "execution_count": 19,
   "id": "f6890631",
   "metadata": {},
   "outputs": [
    {
     "data": {
      "text/plain": [
       "6"
      ]
     },
     "execution_count": 19,
     "metadata": {},
     "output_type": "execute_result"
    }
   ],
   "source": [
    "d"
   ]
  },
  {
   "cell_type": "markdown",
   "id": "6321da5b",
   "metadata": {},
   "source": [
    "# Can you change the value of a variable after it has been assigned?"
   ]
  },
  {
   "cell_type": "code",
   "execution_count": 23,
   "id": "c5ff23ed",
   "metadata": {},
   "outputs": [
    {
     "data": {
      "text/plain": [
       "6"
      ]
     },
     "execution_count": 23,
     "metadata": {},
     "output_type": "execute_result"
    }
   ],
   "source": [
    "s = 4\n",
    "sum1 = s + 2\n",
    "sum1"
   ]
  },
  {
   "cell_type": "markdown",
   "id": "8f12a35b",
   "metadata": {},
   "source": [
    "# How do you check the type of a variable in Python?"
   ]
  },
  {
   "cell_type": "code",
   "execution_count": 24,
   "id": "c276f3e9",
   "metadata": {},
   "outputs": [
    {
     "data": {
      "text/plain": [
       "int"
      ]
     },
     "execution_count": 24,
     "metadata": {},
     "output_type": "execute_result"
    }
   ],
   "source": [
    "type(s)"
   ]
  },
  {
   "cell_type": "code",
   "execution_count": null,
   "id": "dc903b1c",
   "metadata": {},
   "outputs": [],
   "source": []
  }
 ],
 "metadata": {
  "kernelspec": {
   "display_name": "Python 3 (ipykernel)",
   "language": "python",
   "name": "python3"
  },
  "language_info": {
   "codemirror_mode": {
    "name": "ipython",
    "version": 3
   },
   "file_extension": ".py",
   "mimetype": "text/x-python",
   "name": "python",
   "nbconvert_exporter": "python",
   "pygments_lexer": "ipython3",
   "version": "3.11.5"
  }
 },
 "nbformat": 4,
 "nbformat_minor": 5
}
