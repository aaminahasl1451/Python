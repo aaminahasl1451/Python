{
 "cells": [
  {
   "cell_type": "code",
   "execution_count": 1,
   "id": "43e98c9d",
   "metadata": {},
   "outputs": [],
   "source": [
    "pop_it_list = [34,20,79.6,45,\"pop\"]"
   ]
  },
  {
   "cell_type": "code",
   "execution_count": 3,
   "id": "debb08b1",
   "metadata": {},
   "outputs": [
    {
     "data": {
      "text/plain": [
       "'pop'"
      ]
     },
     "execution_count": 3,
     "metadata": {},
     "output_type": "execute_result"
    }
   ],
   "source": [
    "pop_it_list[4]"
   ]
  },
  {
   "cell_type": "code",
   "execution_count": 5,
   "id": "7aa705ee",
   "metadata": {},
   "outputs": [],
   "source": [
    "list1= pop_it_list[0:4]"
   ]
  },
  {
   "cell_type": "code",
   "execution_count": 6,
   "id": "f367b0cd",
   "metadata": {},
   "outputs": [
    {
     "data": {
      "text/plain": [
       "[34, 20, 79.6, 45, 'pop']"
      ]
     },
     "execution_count": 6,
     "metadata": {},
     "output_type": "execute_result"
    }
   ],
   "source": [
    "pop_it_list"
   ]
  },
  {
   "cell_type": "code",
   "execution_count": 7,
   "id": "39afa60d",
   "metadata": {},
   "outputs": [
    {
     "data": {
      "text/plain": [
       "[34, 20, 79.6, 45]"
      ]
     },
     "execution_count": 7,
     "metadata": {},
     "output_type": "execute_result"
    }
   ],
   "source": [
    "list1"
   ]
  },
  {
   "cell_type": "code",
   "execution_count": 8,
   "id": "2e577cf4",
   "metadata": {},
   "outputs": [],
   "source": [
    "list2= pop_it_list[2:5]"
   ]
  },
  {
   "cell_type": "code",
   "execution_count": 9,
   "id": "0c4383e3",
   "metadata": {},
   "outputs": [
    {
     "data": {
      "text/plain": [
       "[79.6, 45, 'pop']"
      ]
     },
     "execution_count": 9,
     "metadata": {},
     "output_type": "execute_result"
    }
   ],
   "source": [
    "list2"
   ]
  },
  {
   "cell_type": "code",
   "execution_count": 10,
   "id": "6bfe5401",
   "metadata": {},
   "outputs": [],
   "source": [
    "def tableOfTwelve():\n",
    "     for m in range(1,11,1):\n",
    "            print(\"12 X\", m,\"=\", m*12)\n",
    "        "
   ]
  },
  {
   "cell_type": "code",
   "execution_count": 11,
   "id": "28f3ba52",
   "metadata": {},
   "outputs": [
    {
     "name": "stdout",
     "output_type": "stream",
     "text": [
      "12 X 1 = 12\n",
      "12 X 2 = 24\n",
      "12 X 3 = 36\n",
      "12 X 4 = 48\n",
      "12 X 5 = 60\n",
      "12 X 6 = 72\n",
      "12 X 7 = 84\n",
      "12 X 8 = 96\n",
      "12 X 9 = 108\n",
      "12 X 10 = 120\n"
     ]
    }
   ],
   "source": [
    "tableOfTwelve()"
   ]
  },
  {
   "cell_type": "code",
   "execution_count": 12,
   "id": "3e58e571",
   "metadata": {},
   "outputs": [
    {
     "name": "stdout",
     "output_type": "stream",
     "text": [
      "20 X 1 = 20\n",
      "20 X 2 = 40\n",
      "20 X 3 = 60\n",
      "20 X 4 = 80\n",
      "20 X 5 = 100\n",
      "20 X 6 = 120\n",
      "20 X 7 = 140\n",
      "20 X 8 = 160\n",
      "20 X 9 = 180\n",
      "20 X 10 = 200\n",
      "20 X 11 = 220\n",
      "20 X 12 = 240\n",
      "20 X 13 = 260\n",
      "20 X 14 = 280\n",
      "20 X 15 = 300\n",
      "20 X 16 = 320\n",
      "20 X 17 = 340\n",
      "20 X 18 = 360\n",
      "20 X 19 = 380\n",
      "20 X 20 = 400\n"
     ]
    }
   ],
   "source": [
    "def zara():\n",
    "    for z in range(1,21,1):\n",
    "        print(\"20 X\", z, \"=\",z*20)\n",
    "zara()"
   ]
  },
  {
   "cell_type": "code",
   "execution_count": 18,
   "id": "e5ee7546",
   "metadata": {},
   "outputs": [],
   "source": [
    "def ty():\n",
    "    age=int(input(\"Enter Your Age :  \"))\n",
    "    if age == 24:\n",
    "        print(\"This one must be Bilal\")\n",
    "    elif age == 15:\n",
    "        print(\"This One Must be bob\")\n",
    "    else:\n",
    "        print(\"Idk about you\")\n",
    "              "
   ]
  },
  {
   "cell_type": "code",
   "execution_count": 19,
   "id": "66e69358",
   "metadata": {},
   "outputs": [
    {
     "name": "stdout",
     "output_type": "stream",
     "text": [
      "Enter Your Age :  15\n",
      "This One Must be bob\n"
     ]
    }
   ],
   "source": [
    "ty()"
   ]
  },
  {
   "cell_type": "code",
   "execution_count": 20,
   "id": "70b7a126",
   "metadata": {},
   "outputs": [],
   "source": [
    "def listFun():\n",
    "    fruits=[\"bananna\",\"strawberry\",\"apple\",\"kiwi\",\"watermelon\",\"grapes\",\"melon\",\"guava\"]\n",
    "    for z in fruits:\n",
    "        print(z)\n",
    " "
   ]
  },
  {
   "cell_type": "code",
   "execution_count": 21,
   "id": "f92e4574",
   "metadata": {},
   "outputs": [
    {
     "name": "stdout",
     "output_type": "stream",
     "text": [
      "bananna\n",
      "strawberry\n",
      "apple\n",
      "kiwi\n",
      "watermelon\n",
      "grapes\n",
      "melon\n",
      "guava\n"
     ]
    }
   ],
   "source": [
    "listFun()"
   ]
  },
  {
   "cell_type": "code",
   "execution_count": null,
   "id": "520e68b3",
   "metadata": {},
   "outputs": [],
   "source": []
  }
 ],
 "metadata": {
  "kernelspec": {
   "display_name": "Python 3 (ipykernel)",
   "language": "python",
   "name": "python3"
  },
  "language_info": {
   "codemirror_mode": {
    "name": "ipython",
    "version": 3
   },
   "file_extension": ".py",
   "mimetype": "text/x-python",
   "name": "python",
   "nbconvert_exporter": "python",
   "pygments_lexer": "ipython3",
   "version": "3.11.5"
  }
 },
 "nbformat": 4,
 "nbformat_minor": 5
}
