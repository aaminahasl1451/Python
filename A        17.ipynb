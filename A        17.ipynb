{
 "cells": [
  {
   "cell_type": "code",
   "execution_count": 6,
   "id": "468a3bb6",
   "metadata": {},
   "outputs": [],
   "source": [
    "fi1 = {\"my\":\"z4hr4\",\"my2\":\"A4min4h\", \"my3\":\"z4in4b\",\"my4\":\"du4\",\"my5\":\"h3b4\",\"my6\":\"s0f14\",\"my7\":\"ny14\",\"my8\":\"\"}"
   ]
  },
  {
   "cell_type": "code",
   "execution_count": 7,
   "id": "fb36b0f6",
   "metadata": {},
   "outputs": [
    {
     "data": {
      "text/plain": [
       "8"
      ]
     },
     "execution_count": 7,
     "metadata": {},
     "output_type": "execute_result"
    }
   ],
   "source": [
    "len(fi1)"
   ]
  },
  {
   "cell_type": "code",
   "execution_count": 13,
   "id": "a4ca0950",
   "metadata": {},
   "outputs": [
    {
     "data": {
      "text/plain": [
       "'du4'"
      ]
     },
     "execution_count": 13,
     "metadata": {},
     "output_type": "execute_result"
    }
   ],
   "source": [
    "fi1[\"my4\"]"
   ]
  },
  {
   "cell_type": "code",
   "execution_count": 14,
   "id": "b3161579",
   "metadata": {},
   "outputs": [
    {
     "data": {
      "text/plain": [
       "'z4hr4'"
      ]
     },
     "execution_count": 14,
     "metadata": {},
     "output_type": "execute_result"
    }
   ],
   "source": [
    "fi1[\"my\"]"
   ]
  },
  {
   "cell_type": "code",
   "execution_count": 15,
   "id": "8884ccf1",
   "metadata": {},
   "outputs": [
    {
     "data": {
      "text/plain": [
       "'A4min4h'"
      ]
     },
     "execution_count": 15,
     "metadata": {},
     "output_type": "execute_result"
    }
   ],
   "source": [
    "fi1[\"my2\"]"
   ]
  },
  {
   "cell_type": "code",
   "execution_count": 16,
   "id": "c1064ed5",
   "metadata": {},
   "outputs": [
    {
     "data": {
      "text/plain": [
       "'z4in4b'"
      ]
     },
     "execution_count": 16,
     "metadata": {},
     "output_type": "execute_result"
    }
   ],
   "source": [
    "fi1[\"my3\"]"
   ]
  },
  {
   "cell_type": "code",
   "execution_count": 17,
   "id": "74a17235",
   "metadata": {},
   "outputs": [
    {
     "data": {
      "text/plain": [
       "'du4'"
      ]
     },
     "execution_count": 17,
     "metadata": {},
     "output_type": "execute_result"
    }
   ],
   "source": [
    "fi1[\"my4\"]"
   ]
  },
  {
   "cell_type": "code",
   "execution_count": 18,
   "id": "d8555c66",
   "metadata": {},
   "outputs": [
    {
     "data": {
      "text/plain": [
       "'h3b4'"
      ]
     },
     "execution_count": 18,
     "metadata": {},
     "output_type": "execute_result"
    }
   ],
   "source": [
    "fi1[\"my5\"]"
   ]
  },
  {
   "cell_type": "code",
   "execution_count": 19,
   "id": "d4cdcdc0",
   "metadata": {},
   "outputs": [
    {
     "data": {
      "text/plain": [
       "'s0f14'"
      ]
     },
     "execution_count": 19,
     "metadata": {},
     "output_type": "execute_result"
    }
   ],
   "source": [
    "fi1[\"my6\"]"
   ]
  },
  {
   "cell_type": "code",
   "execution_count": 20,
   "id": "eec500a4",
   "metadata": {},
   "outputs": [
    {
     "data": {
      "text/plain": [
       "'ny14'"
      ]
     },
     "execution_count": 20,
     "metadata": {},
     "output_type": "execute_result"
    }
   ],
   "source": [
    "fi1[\"my7\"]"
   ]
  },
  {
   "cell_type": "code",
   "execution_count": 21,
   "id": "753ed7dc",
   "metadata": {},
   "outputs": [
    {
     "data": {
      "text/plain": [
       "''"
      ]
     },
     "execution_count": 21,
     "metadata": {},
     "output_type": "execute_result"
    }
   ],
   "source": [
    "fi1[\"my8\"]"
   ]
  },
  {
   "cell_type": "code",
   "execution_count": 22,
   "id": "ad6213f2",
   "metadata": {},
   "outputs": [
    {
     "data": {
      "text/plain": [
       "{'my': 'z4hr4',\n",
       " 'my2': 'A4min4h',\n",
       " 'my3': 'z4in4b',\n",
       " 'my4': 'du4',\n",
       " 'my5': 'h3b4',\n",
       " 'my6': 's0f14',\n",
       " 'my7': 'ny14',\n",
       " 'my8': ''}"
      ]
     },
     "execution_count": 22,
     "metadata": {},
     "output_type": "execute_result"
    }
   ],
   "source": [
    "fi1"
   ]
  },
  {
   "cell_type": "code",
   "execution_count": 25,
   "id": "b6c881d7",
   "metadata": {},
   "outputs": [],
   "source": [
    "fi1[\"my\"]=\"zzaahhrraa\""
   ]
  },
  {
   "cell_type": "code",
   "execution_count": 26,
   "id": "69d994c9",
   "metadata": {},
   "outputs": [
    {
     "data": {
      "text/plain": [
       "{'my': 'zzaahhrraa',\n",
       " 'my2': 'A4min4h',\n",
       " 'my3': 'z4in4b',\n",
       " 'my4': 'du4',\n",
       " 'my5': 'h3b4',\n",
       " 'my6': 's0f14',\n",
       " 'my7': 'ny14',\n",
       " 'my8': ''}"
      ]
     },
     "execution_count": 26,
     "metadata": {},
     "output_type": "execute_result"
    }
   ],
   "source": [
    "fi1"
   ]
  },
  {
   "cell_type": "code",
   "execution_count": 29,
   "id": "ff72f53e",
   "metadata": {},
   "outputs": [],
   "source": [
    "fi1[\"my2\"]=\"aaaammiinnaahh\""
   ]
  },
  {
   "cell_type": "code",
   "execution_count": 30,
   "id": "7b560bdf",
   "metadata": {},
   "outputs": [],
   "source": [
    "fi1[\"my3\"]=\"zzaaiinnaabb\""
   ]
  },
  {
   "cell_type": "code",
   "execution_count": 31,
   "id": "315a1015",
   "metadata": {},
   "outputs": [],
   "source": [
    "fi1[\"my4\"]=\"dduuaa\""
   ]
  },
  {
   "cell_type": "code",
   "execution_count": 32,
   "id": "2615dfca",
   "metadata": {},
   "outputs": [],
   "source": [
    "fi1[\"my5\"]=\"hheebbaa\""
   ]
  },
  {
   "cell_type": "code",
   "execution_count": 33,
   "id": "35711068",
   "metadata": {},
   "outputs": [],
   "source": [
    "fi1[\"my6\"]=\"ssooffiiaa\""
   ]
  },
  {
   "cell_type": "code",
   "execution_count": 35,
   "id": "54eeb1e6",
   "metadata": {},
   "outputs": [],
   "source": [
    "fi1[\"my7\"]=\"nnyyllaa\""
   ]
  },
  {
   "cell_type": "code",
   "execution_count": 27,
   "id": "d711d975",
   "metadata": {},
   "outputs": [],
   "source": [
    "fi1[\"my8\"]=\"oooo\""
   ]
  },
  {
   "cell_type": "code",
   "execution_count": 36,
   "id": "e59680b5",
   "metadata": {},
   "outputs": [
    {
     "data": {
      "text/plain": [
       "{'my': 'zzaahhrraa',\n",
       " 'my2': 'aaaammiinnaahh',\n",
       " 'my3': 'zzaaiinnaabb',\n",
       " 'my4': 'dduuaa',\n",
       " 'my5': 'hheebbaa',\n",
       " 'my6': 'ssooffiiaa',\n",
       " 'my7': 'nnyyllaa',\n",
       " 'my8': 'oooo'}"
      ]
     },
     "execution_count": 36,
     "metadata": {},
     "output_type": "execute_result"
    }
   ],
   "source": [
    "fi1"
   ]
  },
  {
   "cell_type": "code",
   "execution_count": 37,
   "id": "48b158ff",
   "metadata": {},
   "outputs": [],
   "source": [
    "fi1[\"my\"]=\"a\""
   ]
  },
  {
   "cell_type": "code",
   "execution_count": 38,
   "id": "34d3079a",
   "metadata": {},
   "outputs": [],
   "source": [
    "fi1[\"my2\"]=\"b\""
   ]
  },
  {
   "cell_type": "code",
   "execution_count": 39,
   "id": "01dee6d7",
   "metadata": {},
   "outputs": [],
   "source": [
    "fi1[\"my3\"]=\"c\""
   ]
  },
  {
   "cell_type": "code",
   "execution_count": 40,
   "id": "52bee5b0",
   "metadata": {},
   "outputs": [],
   "source": [
    "fi1[\"my4\"]=\"d\""
   ]
  },
  {
   "cell_type": "code",
   "execution_count": 48,
   "id": "c1d93175",
   "metadata": {},
   "outputs": [],
   "source": [
    "fi1[\"my5\"]=\"e\""
   ]
  },
  {
   "cell_type": "code",
   "execution_count": 49,
   "id": "2025f163",
   "metadata": {},
   "outputs": [],
   "source": [
    "fi1[\"my6\"]=\"f\""
   ]
  },
  {
   "cell_type": "code",
   "execution_count": 50,
   "id": "cd548caf",
   "metadata": {},
   "outputs": [],
   "source": [
    "fi1[\"my7\"]=\"g\""
   ]
  },
  {
   "cell_type": "code",
   "execution_count": 51,
   "id": "a2ac5641",
   "metadata": {},
   "outputs": [],
   "source": [
    "fi1[\"my8\"]=\"h\""
   ]
  },
  {
   "cell_type": "code",
   "execution_count": 52,
   "id": "fa017cd0",
   "metadata": {},
   "outputs": [],
   "source": [
    "fi1[\"my9\"]=\"i\""
   ]
  },
  {
   "cell_type": "code",
   "execution_count": 53,
   "id": "8976103f",
   "metadata": {},
   "outputs": [],
   "source": [
    "fi1[\"my10\"]=\"j\""
   ]
  },
  {
   "cell_type": "code",
   "execution_count": 54,
   "id": "488af7c3",
   "metadata": {},
   "outputs": [],
   "source": [
    "fi1[\"my11\"]=\"k\""
   ]
  },
  {
   "cell_type": "code",
   "execution_count": 55,
   "id": "11f8f657",
   "metadata": {},
   "outputs": [],
   "source": [
    "fi1[\"my12\"]=\"l\""
   ]
  },
  {
   "cell_type": "code",
   "execution_count": 56,
   "id": "b2fd719e",
   "metadata": {},
   "outputs": [],
   "source": [
    "fi1[\"my13\"]=\"m\""
   ]
  },
  {
   "cell_type": "code",
   "execution_count": 57,
   "id": "3cbb9850",
   "metadata": {},
   "outputs": [
    {
     "data": {
      "text/plain": [
       "{'my': 'a',\n",
       " 'my2': 'b',\n",
       " 'my3': 'c',\n",
       " 'my4': 'd',\n",
       " 'my5': 'e',\n",
       " 'my6': 'f',\n",
       " 'my7': 'g',\n",
       " 'my8': 'h',\n",
       " 'my9': 'i',\n",
       " 'my10': 'j',\n",
       " 'my11': 'k',\n",
       " 'my12': 'l',\n",
       " 'my13': 'm'}"
      ]
     },
     "execution_count": 57,
     "metadata": {},
     "output_type": "execute_result"
    }
   ],
   "source": [
    "fi1"
   ]
  },
  {
   "cell_type": "code",
   "execution_count": 58,
   "id": "6857464f",
   "metadata": {},
   "outputs": [
    {
     "data": {
      "text/plain": [
       "13"
      ]
     },
     "execution_count": 58,
     "metadata": {},
     "output_type": "execute_result"
    }
   ],
   "source": [
    "len(fi1)"
   ]
  },
  {
   "cell_type": "code",
   "execution_count": null,
   "id": "efe00514",
   "metadata": {},
   "outputs": [],
   "source": []
  },
  {
   "cell_type": "code",
   "execution_count": null,
   "id": "29b260d3",
   "metadata": {},
   "outputs": [],
   "source": []
  },
  {
   "cell_type": "code",
   "execution_count": null,
   "id": "3112d324",
   "metadata": {},
   "outputs": [],
   "source": []
  },
  {
   "cell_type": "code",
   "execution_count": null,
   "id": "be8eb317",
   "metadata": {},
   "outputs": [],
   "source": []
  },
  {
   "cell_type": "code",
   "execution_count": null,
   "id": "3b3f0664",
   "metadata": {},
   "outputs": [],
   "source": []
  },
  {
   "cell_type": "code",
   "execution_count": null,
   "id": "397d5a2e",
   "metadata": {},
   "outputs": [],
   "source": []
  },
  {
   "cell_type": "code",
   "execution_count": null,
   "id": "0ace7736",
   "metadata": {},
   "outputs": [],
   "source": []
  },
  {
   "cell_type": "code",
   "execution_count": null,
   "id": "663c243b",
   "metadata": {},
   "outputs": [],
   "source": []
  },
  {
   "cell_type": "code",
   "execution_count": null,
   "id": "740843e4",
   "metadata": {},
   "outputs": [],
   "source": []
  },
  {
   "cell_type": "code",
   "execution_count": null,
   "id": "db140368",
   "metadata": {},
   "outputs": [],
   "source": []
  },
  {
   "cell_type": "code",
   "execution_count": null,
   "id": "28cb258e",
   "metadata": {},
   "outputs": [],
   "source": []
  },
  {
   "cell_type": "code",
   "execution_count": null,
   "id": "1d39bb63",
   "metadata": {},
   "outputs": [],
   "source": []
  },
  {
   "cell_type": "code",
   "execution_count": null,
   "id": "be40ae44",
   "metadata": {},
   "outputs": [],
   "source": []
  },
  {
   "cell_type": "code",
   "execution_count": null,
   "id": "5738e45a",
   "metadata": {},
   "outputs": [],
   "source": []
  },
  {
   "cell_type": "code",
   "execution_count": null,
   "id": "b1774939",
   "metadata": {},
   "outputs": [],
   "source": []
  },
  {
   "cell_type": "code",
   "execution_count": null,
   "id": "f64b82f7",
   "metadata": {},
   "outputs": [],
   "source": []
  },
  {
   "cell_type": "code",
   "execution_count": null,
   "id": "38bcd466",
   "metadata": {},
   "outputs": [],
   "source": []
  },
  {
   "cell_type": "code",
   "execution_count": null,
   "id": "5cd0ea00",
   "metadata": {},
   "outputs": [],
   "source": []
  },
  {
   "cell_type": "code",
   "execution_count": null,
   "id": "765765e1",
   "metadata": {},
   "outputs": [],
   "source": []
  },
  {
   "cell_type": "code",
   "execution_count": null,
   "id": "a41e5882",
   "metadata": {},
   "outputs": [],
   "source": []
  },
  {
   "cell_type": "code",
   "execution_count": null,
   "id": "545a8132",
   "metadata": {},
   "outputs": [],
   "source": []
  },
  {
   "cell_type": "code",
   "execution_count": null,
   "id": "5bf538f9",
   "metadata": {},
   "outputs": [],
   "source": []
  },
  {
   "cell_type": "code",
   "execution_count": null,
   "id": "6008510a",
   "metadata": {},
   "outputs": [],
   "source": []
  },
  {
   "cell_type": "code",
   "execution_count": null,
   "id": "f6038e87",
   "metadata": {},
   "outputs": [],
   "source": []
  },
  {
   "cell_type": "code",
   "execution_count": null,
   "id": "0f1473d9",
   "metadata": {},
   "outputs": [],
   "source": []
  }
 ],
 "metadata": {
  "kernelspec": {
   "display_name": "Python 3 (ipykernel)",
   "language": "python",
   "name": "python3"
  },
  "language_info": {
   "codemirror_mode": {
    "name": "ipython",
    "version": 3
   },
   "file_extension": ".py",
   "mimetype": "text/x-python",
   "name": "python",
   "nbconvert_exporter": "python",
   "pygments_lexer": "ipython3",
   "version": "3.11.5"
  }
 },
 "nbformat": 4,
 "nbformat_minor": 5
}
