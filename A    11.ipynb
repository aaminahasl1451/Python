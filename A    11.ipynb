{
 "cells": [
  {
   "cell_type": "markdown",
   "id": "80557931",
   "metadata": {},
   "source": [
    "\n",
    "# makinag a list "
   ]
  },
  {
   "cell_type": "code",
   "execution_count": 10,
   "id": "744db30a",
   "metadata": {},
   "outputs": [],
   "source": [
    "list1 = [56,76,12,90,10,635.15,\"baby_shark\",False]li"
   ]
  },
  {
   "cell_type": "code",
   "execution_count": 2,
   "id": "5ecb7450",
   "metadata": {},
   "outputs": [
    {
     "data": {
      "text/plain": [
       "list"
      ]
     },
     "execution_count": 2,
     "metadata": {},
     "output_type": "execute_result"
    }
   ],
   "source": [
    "type(list1)"
   ]
  },
  {
   "cell_type": "code",
   "execution_count": 12,
   "id": "708a2f70",
   "metadata": {},
   "outputs": [
    {
     "name": "stdout",
     "output_type": "stream",
     "text": [
      "[56, 76, 12, 90, 10, 635.15, 'baby_shark', False]\n"
     ]
    }
   ],
   "source": [
    "print(list1)"
   ]
  },
  {
   "cell_type": "code",
   "execution_count": 11,
   "id": "4ed4a8b0",
   "metadata": {},
   "outputs": [
    {
     "data": {
      "text/plain": [
       "'baby_shark'"
      ]
     },
     "execution_count": 11,
     "metadata": {},
     "output_type": "execute_result"
    }
   ],
   "source": [
    "list1[6]"
   ]
  },
  {
   "cell_type": "markdown",
   "id": "2b67957b",
   "metadata": {},
   "source": [
    "# How to add elements to a list?"
   ]
  },
  {
   "cell_type": "code",
   "execution_count": 15,
   "id": "4486de20",
   "metadata": {},
   "outputs": [],
   "source": [
    "list1.append(564)"
   ]
  },
  {
   "cell_type": "code",
   "execution_count": 16,
   "id": "a25fb833",
   "metadata": {},
   "outputs": [
    {
     "name": "stdout",
     "output_type": "stream",
     "text": [
      "[56, 76, 12, 90, 10, 635.15, 'baby_shark', False, 564]\n"
     ]
    }
   ],
   "source": [
    "print(list1)"
   ]
  },
  {
   "cell_type": "markdown",
   "id": "b2e0f0f1",
   "metadata": {},
   "source": [
    "# How to remove elements from a list?"
   ]
  },
  {
   "cell_type": "code",
   "execution_count": 17,
   "id": "c7ea9b2b",
   "metadata": {},
   "outputs": [],
   "source": [
    "list1.remove(635.15)"
   ]
  },
  {
   "cell_type": "code",
   "execution_count": 18,
   "id": "82cb0cfe",
   "metadata": {},
   "outputs": [
    {
     "name": "stdout",
     "output_type": "stream",
     "text": [
      "[56, 76, 12, 90, 10, 'baby_shark', False, 564]\n"
     ]
    }
   ],
   "source": [
    "print(list1)"
   ]
  },
  {
   "cell_type": "code",
   "execution_count": 21,
   "id": "2fcd279a",
   "metadata": {},
   "outputs": [],
   "source": [
    "list1.remove('baby_shark')"
   ]
  },
  {
   "cell_type": "code",
   "execution_count": 22,
   "id": "12b35eb1",
   "metadata": {},
   "outputs": [
    {
     "name": "stdout",
     "output_type": "stream",
     "text": [
      "[56, 76, 12, 90, 10, False, 564]\n"
     ]
    }
   ],
   "source": [
    "print(list1)"
   ]
  },
  {
   "cell_type": "code",
   "execution_count": 23,
   "id": "68984856",
   "metadata": {},
   "outputs": [
    {
     "data": {
      "text/plain": [
       "False"
      ]
     },
     "execution_count": 23,
     "metadata": {},
     "output_type": "execute_result"
    }
   ],
   "source": [
    "list1.pop(5)"
   ]
  },
  {
   "cell_type": "code",
   "execution_count": 24,
   "id": "aa05f30a",
   "metadata": {},
   "outputs": [
    {
     "data": {
      "text/plain": [
       "[56, 76, 12, 90, 10, 564]"
      ]
     },
     "execution_count": 24,
     "metadata": {},
     "output_type": "execute_result"
    }
   ],
   "source": [
    "list1"
   ]
  },
  {
   "cell_type": "markdown",
   "id": "702b305f",
   "metadata": {},
   "source": [
    "# How to check if an element is in a list?"
   ]
  },
  {
   "cell_type": "markdown",
   "id": "cc82c554",
   "metadata": {},
   "source": []
  },
  {
   "cell_type": "code",
   "execution_count": 26,
   "id": "707334c7",
   "metadata": {},
   "outputs": [
    {
     "data": {
      "text/plain": [
       "True"
      ]
     },
     "execution_count": 26,
     "metadata": {},
     "output_type": "execute_result"
    }
   ],
   "source": [
    "12 in list1"
   ]
  },
  {
   "cell_type": "code",
   "execution_count": 27,
   "id": "045821fc",
   "metadata": {},
   "outputs": [
    {
     "data": {
      "text/plain": [
       "False"
      ]
     },
     "execution_count": 27,
     "metadata": {},
     "output_type": "execute_result"
    }
   ],
   "source": [
    "9213 in list1"
   ]
  },
  {
   "cell_type": "code",
   "execution_count": 28,
   "id": "700aed97",
   "metadata": {},
   "outputs": [
    {
     "data": {
      "text/plain": [
       "False"
      ]
     },
     "execution_count": 28,
     "metadata": {},
     "output_type": "execute_result"
    }
   ],
   "source": [
    "67 in list1"
   ]
  },
  {
   "cell_type": "code",
   "execution_count": 29,
   "id": "c8e82ee7",
   "metadata": {},
   "outputs": [
    {
     "data": {
      "text/plain": [
       "True"
      ]
     },
     "execution_count": 29,
     "metadata": {},
     "output_type": "execute_result"
    }
   ],
   "source": [
    "10 in list1"
   ]
  },
  {
   "cell_type": "markdown",
   "id": "934ee574",
   "metadata": {},
   "source": [
    "# Can a list be nested (contain other lists)?"
   ]
  },
  {
   "cell_type": "code",
   "execution_count": 31,
   "id": "1811b9f6",
   "metadata": {},
   "outputs": [],
   "source": [
    "list2 = [[12,56,78.34],[52374556]]"
   ]
  },
  {
   "cell_type": "markdown",
   "id": "2c3bafcb",
   "metadata": {},
   "source": [
    "# Can elements in a list be changed or reassigned?"
   ]
  },
  {
   "cell_type": "code",
   "execution_count": 33,
   "id": "d3f00a1a",
   "metadata": {},
   "outputs": [
    {
     "name": "stdout",
     "output_type": "stream",
     "text": [
      "[56, 76, 12, 90, 10, 564]\n"
     ]
    }
   ],
   "source": [
    "print (list1)"
   ]
  },
  {
   "cell_type": "code",
   "execution_count": 34,
   "id": "55d5d251",
   "metadata": {},
   "outputs": [],
   "source": [
    "list1[2]=34.75"
   ]
  },
  {
   "cell_type": "code",
   "execution_count": 35,
   "id": "76d8fb7b",
   "metadata": {},
   "outputs": [
    {
     "name": "stdout",
     "output_type": "stream",
     "text": [
      "[56, 76, 34.75, 90, 10, 564]\n"
     ]
    }
   ],
   "source": [
    "print(list1)"
   ]
  },
  {
   "cell_type": "code",
   "execution_count": 36,
   "id": "cc175736",
   "metadata": {},
   "outputs": [],
   "source": [
    "list1[5]=\"zahra+aaminah\""
   ]
  },
  {
   "cell_type": "code",
   "execution_count": 37,
   "id": "5592f74e",
   "metadata": {},
   "outputs": [
    {
     "name": "stdout",
     "output_type": "stream",
     "text": [
      "[56, 76, 34.75, 90, 10, 'zahra+aaminah']\n"
     ]
    }
   ],
   "source": [
    "print(list1)"
   ]
  },
  {
   "cell_type": "code",
   "execution_count": 39,
   "id": "b96e8e67",
   "metadata": {},
   "outputs": [
    {
     "data": {
      "text/plain": [
       "[[12, 56, 78.34], [52374556]]"
      ]
     },
     "execution_count": 39,
     "metadata": {},
     "output_type": "execute_result"
    }
   ],
   "source": [
    "list2"
   ]
  },
  {
   "cell_type": "code",
   "execution_count": 40,
   "id": "36a32d26",
   "metadata": {},
   "outputs": [],
   "source": [
    "list3 = [1.2,54,87]\n",
    "list4 = [5.6,82,60]"
   ]
  },
  {
   "cell_type": "markdown",
   "id": "ff78c091",
   "metadata": {},
   "source": [
    "# How to concatenate or combine lists?"
   ]
  },
  {
   "cell_type": "code",
   "execution_count": 42,
   "id": "53729b6b",
   "metadata": {},
   "outputs": [],
   "source": [
    "list5 = list4 + list3"
   ]
  },
  {
   "cell_type": "code",
   "execution_count": 43,
   "id": "f0496520",
   "metadata": {},
   "outputs": [
    {
     "data": {
      "text/plain": [
       "[5.6, 82, 60, 1.2, 54, 87]"
      ]
     },
     "execution_count": 43,
     "metadata": {},
     "output_type": "execute_result"
    }
   ],
   "source": [
    "list5"
   ]
  },
  {
   "cell_type": "code",
   "execution_count": 44,
   "id": "0c1cf5c9",
   "metadata": {},
   "outputs": [],
   "source": [
    "list3.extend(list1)"
   ]
  },
  {
   "cell_type": "code",
   "execution_count": 45,
   "id": "39ee508d",
   "metadata": {},
   "outputs": [
    {
     "name": "stdout",
     "output_type": "stream",
     "text": [
      "[1.2, 54, 87, 56, 76, 34.75, 90, 10, 'zahra+aaminah']\n"
     ]
    }
   ],
   "source": [
    "print(list3)"
   ]
  },
  {
   "cell_type": "code",
   "execution_count": 47,
   "id": "72bf21bb",
   "metadata": {},
   "outputs": [
    {
     "name": "stdout",
     "output_type": "stream",
     "text": [
      "[56, 76, 34.75, 90, 10, 'zahra+aaminah']\n"
     ]
    }
   ],
   "source": [
    "print(list1)"
   ]
  },
  {
   "cell_type": "code",
   "execution_count": null,
   "id": "1f7c8ab3",
   "metadata": {},
   "outputs": [],
   "source": []
  }
 ],
 "metadata": {
  "kernelspec": {
   "display_name": "Python 3 (ipykernel)",
   "language": "python",
   "name": "python3"
  },
  "language_info": {
   "codemirror_mode": {
    "name": "ipython",
    "version": 3
   },
   "file_extension": ".py",
   "mimetype": "text/x-python",
   "name": "python",
   "nbconvert_exporter": "python",
   "pygments_lexer": "ipython3",
   "version": "3.11.5"
  }
 },
 "nbformat": 4,
 "nbformat_minor": 5
}
