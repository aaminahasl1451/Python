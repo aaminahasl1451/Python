{
 "cells": [
  {
   "cell_type": "code",
   "execution_count": 1,
   "id": "df9084d8",
   "metadata": {},
   "outputs": [
    {
     "name": "stdout",
     "output_type": "stream",
     "text": [
      "Integer: 10\n",
      "Float: 3.14\n",
      "String: Hello, World!\n",
      "Boolean: True\n",
      "List: [1, 2, 3, 4, 5]\n",
      "Tuple: (1, 2, 3, 4, 5)\n",
      "Set: {1, 2, 3, 4, 5}\n",
      "Dictionary: {'key1': 'value1', 'key2': 'value2'}\n",
      "NoneType: None\n"
     ]
    }
   ],
   "source": [
    "# Integer variable\n",
    "integer_var = 10\n",
    "\n",
    "# Float variable\n",
    "float_var = 3.14\n",
    "\n",
    "# String variable\n",
    "string_var = \"Hello, World!\"\n",
    "\n",
    "# Boolean variable\n",
    "boolean_var = True\n",
    "\n",
    "# List variable\n",
    "list_var = [1, 2, 3, 4, 5]\n",
    "\n",
    "# Tuple variable\n",
    "tuple_var = (1, 2, 3, 4, 5)\n",
    "\n",
    "# Set variable\n",
    "set_var = {1, 2, 3, 4, 5}\n",
    "\n",
    "# Dictionary variable\n",
    "dict_var = {'key1': 'value1', 'key2': 'value2'}\n",
    "\n",
    "# NoneType variable\n",
    "none_var = None\n",
    "\n",
    "# Print variables\n",
    "print(\"Integer:\", integer_var)\n",
    "print(\"Float:\", float_var)\n",
    "print(\"String:\", string_var)\n",
    "print(\"Boolean:\", boolean_var)\n",
    "print(\"List:\", list_var)\n",
    "print(\"Tuple:\", tuple_var)\n",
    "print(\"Set:\", set_var)\n",
    "print(\"Dictionary:\", dict_var)\n",
    "print(\"NoneType:\", none_var)"
   ]
  },
  {
   "cell_type": "code",
   "execution_count": 4,
   "id": "6d92999e",
   "metadata": {},
   "outputs": [
    {
     "name": "stdout",
     "output_type": "stream",
     "text": [
      "1 Za_ra\n",
      "2 Za_ra\n",
      "3 Za_ra\n",
      "4 Za_ra\n",
      "5 Za_ra\n",
      "6 Za_ra\n",
      "7 Za_ra\n",
      "8 Za_ra\n",
      "9 Za_ra\n",
      "10 Za_ra\n"
     ]
    }
   ],
   "source": [
    "for za_raIsCute28 in range(1,11,1):\n",
    "    print(za_raIsCute28,\"Za_ra\")"
   ]
  },
  {
   "cell_type": "code",
   "execution_count": 5,
   "id": "016a1955",
   "metadata": {},
   "outputs": [
    {
     "name": "stdout",
     "output_type": "stream",
     "text": [
      "1\n",
      "2\n",
      "3\n",
      "4\n",
      "5\n",
      "6\n",
      "7\n",
      "8\n",
      "9\n",
      "10\n",
      "11\n",
      "12\n",
      "13\n"
     ]
    }
   ],
   "source": [
    "for w in range(1,14):\n",
    "    print(w)"
   ]
  },
  {
   "cell_type": "code",
   "execution_count": 7,
   "id": "b6657bad",
   "metadata": {},
   "outputs": [
    {
     "data": {
      "text/plain": [
       "(4, 77, 2, 33, 4, 33, 77, 2)"
      ]
     },
     "execution_count": 7,
     "metadata": {},
     "output_type": "execute_result"
    }
   ],
   "source": [
    "a = 2\n",
    "b = 77\n",
    "c = 33\n",
    "d = 4\n",
    "d,b,a,c,d,c,b,a"
   ]
  },
  {
   "cell_type": "code",
   "execution_count": 8,
   "id": "55727d7a",
   "metadata": {},
   "outputs": [
    {
     "name": "stdout",
     "output_type": "stream",
     "text": [
      "Hello, Charlie!\n"
     ]
    }
   ],
   "source": [
    "greeting = \"Hello\"\n",
    "name = \"Charlie\"\n",
    "print(greeting + \", \" + name + \"!\")"
   ]
  },
  {
   "cell_type": "code",
   "execution_count": 9,
   "id": "b9b169eb",
   "metadata": {},
   "outputs": [
    {
     "name": "stdout",
     "output_type": "stream",
     "text": [
      "heyy , Amelia:D\n"
     ]
    }
   ],
   "source": [
    "salutation = \"heyy\"\n",
    "appellation = \"Amelia\"\n",
    "print(salutation + \" , \" + appellation + \":D\")"
   ]
  },
  {
   "cell_type": "code",
   "execution_count": 10,
   "id": "22db31f1",
   "metadata": {},
   "outputs": [
    {
     "name": "stdout",
     "output_type": "stream",
     "text": [
      "12 X 1 = 12\n",
      "12 X 2 = 24\n",
      "12 X 3 = 36\n",
      "12 X 4 = 48\n",
      "12 X 5 = 60\n",
      "12 X 6 = 72\n",
      "12 X 7 = 84\n",
      "12 X 8 = 96\n",
      "12 X 9 = 108\n",
      "12 X 10 = 120\n"
     ]
    }
   ],
   "source": [
    "def tableOfTwelve():\n",
    "     for m in range(1,11,1):\n",
    "            print(\"12 X\", m,\"=\", m*12)\n",
    "tableOfTwelve()"
   ]
  },
  {
   "cell_type": "code",
   "execution_count": null,
   "id": "5832cfee",
   "metadata": {},
   "outputs": [],
   "source": []
  }
 ],
 "metadata": {
  "kernelspec": {
   "display_name": "Python 3 (ipykernel)",
   "language": "python",
   "name": "python3"
  },
  "language_info": {
   "codemirror_mode": {
    "name": "ipython",
    "version": 3
   },
   "file_extension": ".py",
   "mimetype": "text/x-python",
   "name": "python",
   "nbconvert_exporter": "python",
   "pygments_lexer": "ipython3",
   "version": "3.11.5"
  }
 },
 "nbformat": 4,
 "nbformat_minor": 5
}
