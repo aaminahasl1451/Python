{
 "cells": [
  {
   "cell_type": "markdown",
   "id": "07ba3464",
   "metadata": {},
   "source": [
    "# functions in python"
   ]
  },
  {
   "cell_type": "markdown",
   "id": "91cc0e45",
   "metadata": {},
   "source": [
    "# Functions are defined using the def keyword, followed by the function name and parentheses. "
   ]
  },
  {
   "cell_type": "code",
   "execution_count": 3,
   "id": "02899dac",
   "metadata": {},
   "outputs": [],
   "source": [
    "def zahra_hates_balls():\n",
    "    print(\"zahra\")"
   ]
  },
  {
   "cell_type": "markdown",
   "id": "cfae226d",
   "metadata": {},
   "source": [
    "# After defining a function, you can call it to execute the code inside. Call a function by using its name followed by parentheses."
   ]
  },
  {
   "cell_type": "code",
   "execution_count": 4,
   "id": "2ab42ad3",
   "metadata": {},
   "outputs": [
    {
     "name": "stdout",
     "output_type": "stream",
     "text": [
      "zahra\n"
     ]
    }
   ],
   "source": [
    "zahra_hates_balls()"
   ]
  },
  {
   "cell_type": "code",
   "execution_count": 5,
   "id": "55ff7856",
   "metadata": {},
   "outputs": [],
   "source": [
    "def hello():\n",
    "    print(\"hello Zahra\")"
   ]
  },
  {
   "cell_type": "code",
   "execution_count": 6,
   "id": "66bff997",
   "metadata": {},
   "outputs": [
    {
     "name": "stdout",
     "output_type": "stream",
     "text": [
      "hello Zahra\n"
     ]
    }
   ],
   "source": [
    "hello()"
   ]
  },
  {
   "cell_type": "markdown",
   "id": "96f1e767",
   "metadata": {},
   "source": [
    "# def z_a():\n",
    "    print (\"zahra\")"
   ]
  },
  {
   "cell_type": "code",
   "execution_count": 10,
   "id": "b4eedf31",
   "metadata": {},
   "outputs": [
    {
     "name": "stdout",
     "output_type": "stream",
     "text": [
      "zahra\n"
     ]
    }
   ],
   "source": [
    "z_a()"
   ]
  },
  {
   "cell_type": "markdown",
   "id": "0c493255",
   "metadata": {},
   "source": [
    "# Functions can take parameters (inputs) to perform tasks with specific values. Parameters are defined within the parentheses"
   ]
  },
  {
   "cell_type": "code",
   "execution_count": 19,
   "id": "3fa0091d",
   "metadata": {},
   "outputs": [],
   "source": [
    "def cocomelon(zahra_loves_cocomelon):\n",
    "    print(zahra_loves_cocomelon)"
   ]
  },
  {
   "cell_type": "code",
   "execution_count": 20,
   "id": "858e8f66",
   "metadata": {},
   "outputs": [
    {
     "name": "stdout",
     "output_type": "stream",
     "text": [
      "zahra_loves_cocomelon\n"
     ]
    }
   ],
   "source": [
    "cocomelon(\"zahra_loves_cocomelon\")"
   ]
  },
  {
   "cell_type": "code",
   "execution_count": 21,
   "id": "aa28b81e",
   "metadata": {},
   "outputs": [],
   "source": [
    "def ab(name):\n",
    "    print(name)"
   ]
  },
  {
   "cell_type": "code",
   "execution_count": 23,
   "id": "da5ce501",
   "metadata": {},
   "outputs": [
    {
     "name": "stdout",
     "output_type": "stream",
     "text": [
      "Zahra\n"
     ]
    }
   ],
   "source": [
    "ab(\"Zahra\")"
   ]
  },
  {
   "cell_type": "code",
   "execution_count": 24,
   "id": "112eef98",
   "metadata": {},
   "outputs": [],
   "source": [
    "def hu(n):\n",
    "    print(n)"
   ]
  },
  {
   "cell_type": "code",
   "execution_count": 25,
   "id": "9f9abf25",
   "metadata": {},
   "outputs": [
    {
     "name": "stdout",
     "output_type": "stream",
     "text": [
      "z\n"
     ]
    }
   ],
   "source": [
    "hu(\"z\")"
   ]
  },
  {
   "cell_type": "code",
   "execution_count": 26,
   "id": "d2940d06",
   "metadata": {},
   "outputs": [],
   "source": [
    "def ss(a):\n",
    "    print(a)"
   ]
  },
  {
   "cell_type": "code",
   "execution_count": 28,
   "id": "2081a193",
   "metadata": {},
   "outputs": [
    {
     "name": "stdout",
     "output_type": "stream",
     "text": [
      "z\n"
     ]
    }
   ],
   "source": [
    "ss (\"z\")"
   ]
  },
  {
   "cell_type": "code",
   "execution_count": 30,
   "id": "bbfb5294",
   "metadata": {},
   "outputs": [],
   "source": [
    "def ew (f):\n",
    "    print(f)"
   ]
  },
  {
   "cell_type": "code",
   "execution_count": 31,
   "id": "c578f264",
   "metadata": {},
   "outputs": [
    {
     "name": "stdout",
     "output_type": "stream",
     "text": [
      "sam\n"
     ]
    }
   ],
   "source": [
    "ew(\"sam\")"
   ]
  },
  {
   "cell_type": "code",
   "execution_count": 32,
   "id": "b7e5d984",
   "metadata": {},
   "outputs": [],
   "source": [
    "def k11l (c,m):\n",
    "    return c+m"
   ]
  },
  {
   "cell_type": "code",
   "execution_count": 33,
   "id": "b48f902c",
   "metadata": {},
   "outputs": [
    {
     "data": {
      "text/plain": [
       "12"
      ]
     },
     "execution_count": 33,
     "metadata": {},
     "output_type": "execute_result"
    }
   ],
   "source": [
    "k11l(1,11)"
   ]
  },
  {
   "cell_type": "code",
   "execution_count": 35,
   "id": "2b444f82",
   "metadata": {},
   "outputs": [
    {
     "data": {
      "text/plain": [
       "99"
      ]
     },
     "execution_count": 35,
     "metadata": {},
     "output_type": "execute_result"
    }
   ],
   "source": [
    "k11l(44,55)"
   ]
  },
  {
   "cell_type": "code",
   "execution_count": 36,
   "id": "7c07fa34",
   "metadata": {},
   "outputs": [],
   "source": [
    "def ki1l (n,m):\n",
    "    return n/m"
   ]
  },
  {
   "cell_type": "code",
   "execution_count": 37,
   "id": "7c5ef67f",
   "metadata": {},
   "outputs": [
    {
     "data": {
      "text/plain": [
       "0.5"
      ]
     },
     "execution_count": 37,
     "metadata": {},
     "output_type": "execute_result"
    }
   ],
   "source": [
    "ki1l(2,4)"
   ]
  },
  {
   "cell_type": "code",
   "execution_count": 38,
   "id": "ff203d97",
   "metadata": {},
   "outputs": [
    {
     "data": {
      "text/plain": [
       "2.0"
      ]
     },
     "execution_count": 38,
     "metadata": {},
     "output_type": "execute_result"
    }
   ],
   "source": [
    "ki1l(4,2)"
   ]
  },
  {
   "cell_type": "code",
   "execution_count": 39,
   "id": "c8096243",
   "metadata": {},
   "outputs": [],
   "source": [
    "def kl1i (s,f):\n",
    "    return s-f"
   ]
  },
  {
   "cell_type": "code",
   "execution_count": 40,
   "id": "42266618",
   "metadata": {},
   "outputs": [
    {
     "data": {
      "text/plain": [
       "10"
      ]
     },
     "execution_count": 40,
     "metadata": {},
     "output_type": "execute_result"
    }
   ],
   "source": [
    "kl1i(11,1)"
   ]
  },
  {
   "cell_type": "code",
   "execution_count": 41,
   "id": "f4b093bf",
   "metadata": {},
   "outputs": [],
   "source": [
    "def kil1 (d,a):\n",
    "    return d*a"
   ]
  },
  {
   "cell_type": "code",
   "execution_count": 43,
   "id": "ea3773a7",
   "metadata": {},
   "outputs": [
    {
     "data": {
      "text/plain": [
       "4"
      ]
     },
     "execution_count": 43,
     "metadata": {},
     "output_type": "execute_result"
    }
   ],
   "source": [
    "kil1(2,2)"
   ]
  },
  {
   "cell_type": "code",
   "execution_count": 44,
   "id": "a425b7d2",
   "metadata": {},
   "outputs": [],
   "source": [
    "def kopo (d,a,h,l):\n",
    "    return d*a*h*l"
   ]
  },
  {
   "cell_type": "code",
   "execution_count": 45,
   "id": "680dc9f8",
   "metadata": {},
   "outputs": [
    {
     "data": {
      "text/plain": [
       "4"
      ]
     },
     "execution_count": 45,
     "metadata": {},
     "output_type": "execute_result"
    }
   ],
   "source": [
    "kopo(1,2,1,2)"
   ]
  },
  {
   "cell_type": "code",
   "execution_count": 46,
   "id": "7b4780ab",
   "metadata": {},
   "outputs": [],
   "source": [
    "def kpop (h,f,s,d):\n",
    "    return h-f-s-d"
   ]
  },
  {
   "cell_type": "code",
   "execution_count": 47,
   "id": "1a1e752b",
   "metadata": {},
   "outputs": [
    {
     "data": {
      "text/plain": [
       "1"
      ]
     },
     "execution_count": 47,
     "metadata": {},
     "output_type": "execute_result"
    }
   ],
   "source": [
    "kpop(7,2,3,1)"
   ]
  },
  {
   "cell_type": "code",
   "execution_count": 48,
   "id": "b5819dfc",
   "metadata": {},
   "outputs": [],
   "source": [
    "def kppo (n,b,v,m):\n",
    "    return n/b/v/m"
   ]
  },
  {
   "cell_type": "code",
   "execution_count": 49,
   "id": "fec5eefc",
   "metadata": {},
   "outputs": [
    {
     "data": {
      "text/plain": [
       "14.166666666666666"
      ]
     },
     "execution_count": 49,
     "metadata": {},
     "output_type": "execute_result"
    }
   ],
   "source": [
    "kppo(85,2,3,1)"
   ]
  },
  {
   "cell_type": "code",
   "execution_count": 52,
   "id": "4c62a625",
   "metadata": {},
   "outputs": [],
   "source": [
    "def koop (c,m,l,k):\n",
    "    return c+m+l+k"
   ]
  },
  {
   "cell_type": "code",
   "execution_count": 53,
   "id": "49d22a81",
   "metadata": {},
   "outputs": [
    {
     "data": {
      "text/plain": [
       "28"
      ]
     },
     "execution_count": 53,
     "metadata": {},
     "output_type": "execute_result"
    }
   ],
   "source": [
    "koop(4,4,8,12)"
   ]
  },
  {
   "cell_type": "code",
   "execution_count": 56,
   "id": "ff9c5ba5",
   "metadata": {},
   "outputs": [],
   "source": [
    "a = \"Zahra\"\n",
    "def k ():\n",
    "    global a\n",
    "    return a\n"
   ]
  },
  {
   "cell_type": "code",
   "execution_count": 57,
   "id": "993326be",
   "metadata": {},
   "outputs": [
    {
     "data": {
      "text/plain": [
       "'Zahra'"
      ]
     },
     "execution_count": 57,
     "metadata": {},
     "output_type": "execute_result"
    }
   ],
   "source": [
    "k()"
   ]
  },
  {
   "cell_type": "code",
   "execution_count": null,
   "id": "cb4992d1",
   "metadata": {},
   "outputs": [],
   "source": []
  }
 ],
 "metadata": {
  "kernelspec": {
   "display_name": "Python 3 (ipykernel)",
   "language": "python",
   "name": "python3"
  },
  "language_info": {
   "codemirror_mode": {
    "name": "ipython",
    "version": 3
   },
   "file_extension": ".py",
   "mimetype": "text/x-python",
   "name": "python",
   "nbconvert_exporter": "python",
   "pygments_lexer": "ipython3",
   "version": "3.11.5"
  }
 },
 "nbformat": 4,
 "nbformat_minor": 5
}
